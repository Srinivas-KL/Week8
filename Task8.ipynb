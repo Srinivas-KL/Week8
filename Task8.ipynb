{
 "cells": [
  {
   "cell_type": "code",
   "execution_count": 1,
   "id": "2fbb48ef",
   "metadata": {},
   "outputs": [],
   "source": [
    "# This Python 3 environment comes with many helpful analytics libraries installed\n",
    "# It is defined by the kaggle/python Docker image: https://github.com/kaggle/docker-python\n",
    "# For example, here's several helpful packages to load\n",
    "\n",
    "import numpy as np # linear algebra\n",
    "import pandas as pd # data processing, CSV file I/O (e.g. pd.read_csv)\n",
    "from sklearn.metrics import confusion_matrix,accuracy_score\n",
    "from sklearn.model_selection import train_test_split\n",
    "from sklearn.preprocessing import StandardScaler\n",
    "from sklearn.metrics import classification_report \n",
    "# Input data files are available in the read-only \"../input/\" directory\n",
    "# For example, running this (by clicking run or pressing Shift+Enter) will list all files under the input directory\n",
    "\n",
    "import os\n",
    "for dirname, _, filenames in os.walk('/Script/Data'):\n",
    "    for filename in filenames:\n",
    "        print(os.path.join(dirname, filename))\n"
   ]
  },
  {
   "cell_type": "code",
   "execution_count": 3,
   "id": "9e490a87",
   "metadata": {},
   "outputs": [
    {
     "data": {
      "text/plain": [
       "(294, 14)"
      ]
     },
     "execution_count": 3,
     "metadata": {},
     "output_type": "execute_result"
    }
   ],
   "source": [
    "data=pd.read_csv('./Data/Heart Attack.csv')\n",
    "data.shape"
   ]
  },
  {
   "cell_type": "code",
   "execution_count": 4,
   "id": "824484a5",
   "metadata": {},
   "outputs": [
    {
     "data": {
      "text/plain": [
       "age             int64\n",
       "sex             int64\n",
       "cp              int64\n",
       "trestbps       object\n",
       "chol           object\n",
       "fbs            object\n",
       "restecg        object\n",
       "thalach        object\n",
       "exang          object\n",
       "oldpeak       float64\n",
       "slope          object\n",
       "ca             object\n",
       "thal           object\n",
       "num             int64\n",
       "dtype: object"
      ]
     },
     "execution_count": 4,
     "metadata": {},
     "output_type": "execute_result"
    }
   ],
   "source": [
    "data.dtypes"
   ]
  },
  {
   "cell_type": "markdown",
   "id": "bd118b52",
   "metadata": {},
   "source": [
    "# visualization of Correlation in Data"
   ]
  },
  {
   "cell_type": "code",
   "execution_count": 5,
   "id": "daccd2de",
   "metadata": {},
   "outputs": [
    {
     "data": {
      "image/png": "[encoded data removed]",
      "text/plain": [
       "<Figure size 864x648 with 2 Axes>"
      ]
     },
     "metadata": {
      "needs_background": "light"
     },
     "output_type": "display_data"
    }
   ],
   "source": [
    "import matplotlib.pyplot as plt\n",
    "import seaborn as sns\n",
    "\n",
    "corrmat = data.corr()\n",
    "f, ax = plt.subplots(figsize=(12, 9))\n",
    "sns.heatmap(corrmat, vmax=.8, square=True, annot=True);"
   ]
  },
  {
   "cell_type": "code",
   "execution_count": 6,
   "id": "7ea8f021",
   "metadata": {},
   "outputs": [
    {
     "name": "stdout",
     "output_type": "stream",
     "text": [
      "age \n",
      "------------\n",
      "\n",
      "Unknown % = 0.0\n",
      "Median: 49.0\n",
      "Mean: 47.826530612244895\n",
      "sex \n",
      "------------\n",
      "\n",
      "Unknown % = 0.0\n",
      "Median: 1.0\n",
      "Mean: 0.7244897959183674\n",
      "cp \n",
      "------------\n",
      "\n",
      "Unknown % = 0.0\n",
      "Median: 3.0\n",
      "Mean: 2.9829931972789114\n",
      "trestbps \n",
      "------------\n",
      "\n",
      "Unknown % = 0.003401360544217687\n",
      "Median: 130.0\n",
      "Mean: inf\n",
      "chol \n",
      "------------\n",
      "\n",
      "Unknown % = 0.0782312925170068\n",
      "Median: 243.0\n",
      "Mean: inf\n",
      "fbs \n",
      "------------\n",
      "\n",
      "Unknown % = 0.027210884353741496\n",
      "Median: 0.0\n",
      "Mean: 3.496503496503496e+246\n",
      "restecg \n",
      "------------\n",
      "\n",
      "Unknown % = 0.003401360544217687\n",
      "Median: 0.0\n",
      "Mean: 6.829692833109283e+289\n",
      "thalach \n",
      "------------\n",
      "\n",
      "Unknown % = 0.003401360544217687\n",
      "Median: 140.0\n",
      "Mean: inf\n",
      "exang \n",
      "------------\n",
      "\n",
      "Unknown % = 0.003401360544217687\n",
      "Median: 0.0\n",
      "Mean: 3.4129692832764505e+257\n",
      "oldpeak \n",
      "------------\n",
      "\n",
      "Unknown % = 0.0\n",
      "Median: 0.0\n",
      "Mean: 0.5860544217687075\n",
      "slope \n",
      "------------\n",
      "\n",
      "Unknown % = 0.6462585034013606\n",
      "Median: 2.0\n",
      "Mean: 2.0405973184828e+101\n",
      "ca \n",
      "------------\n",
      "\n",
      "Unknown % = 0.9897959183673469\n",
      "Median: 0.0\n",
      "Mean: 0.0\n",
      "thal \n",
      "------------\n",
      "\n",
      "Unknown % = 0.9047619047619048\n",
      "Median: 6.0\n",
      "Mean: 2.2619058492059418e+26\n"
     ]
    },
    {
     "data": {
      "text/html": [
       "<div>\n",
       "<style scoped>\n",
       "    .dataframe tbody tr th:only-of-type {\n",
       "        vertical-align: middle;\n",
       "    }\n",
       "\n",
       "    .dataframe tbody tr th {\n",
       "        vertical-align: top;\n",
       "    }\n",
       "\n",
       "    .dataframe thead th {\n",
       "        text-align: right;\n",
       "    }\n",
       "</style>\n",
       "<table border=\"1\" class=\"dataframe\">\n",
       "  <thead>\n",
       "    <tr style=\"text-align: right;\">\n",
       "      <th></th>\n",
       "      <th>age</th>\n",
       "      <th>sex</th>\n",
       "      <th>cp</th>\n",
       "      <th>trestbps</th>\n",
       "      <th>chol</th>\n",
       "      <th>fbs</th>\n",
       "      <th>restecg</th>\n",
       "      <th>thalach</th>\n",
       "      <th>exang</th>\n",
       "      <th>oldpeak</th>\n",
       "      <th>num</th>\n",
       "    </tr>\n",
       "  </thead>\n",
       "  <tbody>\n",
       "    <tr>\n",
       "      <th>0</th>\n",
       "      <td>28</td>\n",
       "      <td>1</td>\n",
       "      <td>2</td>\n",
       "      <td>130</td>\n",
       "      <td>132</td>\n",
       "      <td>0</td>\n",
       "      <td>2</td>\n",
       "      <td>185</td>\n",
       "      <td>0</td>\n",
       "      <td>0.0</td>\n",
       "      <td>0</td>\n",
       "    </tr>\n",
       "    <tr>\n",
       "      <th>1</th>\n",
       "      <td>29</td>\n",
       "      <td>1</td>\n",
       "      <td>2</td>\n",
       "      <td>120</td>\n",
       "      <td>243</td>\n",
       "      <td>0</td>\n",
       "      <td>0</td>\n",
       "      <td>160</td>\n",
       "      <td>0</td>\n",
       "      <td>0.0</td>\n",
       "      <td>0</td>\n",
       "    </tr>\n",
       "    <tr>\n",
       "      <th>2</th>\n",
       "      <td>29</td>\n",
       "      <td>1</td>\n",
       "      <td>2</td>\n",
       "      <td>140</td>\n",
       "      <td>?</td>\n",
       "      <td>0</td>\n",
       "      <td>0</td>\n",
       "      <td>170</td>\n",
       "      <td>0</td>\n",
       "      <td>0.0</td>\n",
       "      <td>0</td>\n",
       "    </tr>\n",
       "    <tr>\n",
       "      <th>3</th>\n",
       "      <td>30</td>\n",
       "      <td>0</td>\n",
       "      <td>1</td>\n",
       "      <td>170</td>\n",
       "      <td>237</td>\n",
       "      <td>0</td>\n",
       "      <td>1</td>\n",
       "      <td>170</td>\n",
       "      <td>0</td>\n",
       "      <td>0.0</td>\n",
       "      <td>0</td>\n",
       "    </tr>\n",
       "    <tr>\n",
       "      <th>4</th>\n",
       "      <td>31</td>\n",
       "      <td>0</td>\n",
       "      <td>2</td>\n",
       "      <td>100</td>\n",
       "      <td>219</td>\n",
       "      <td>0</td>\n",
       "      <td>1</td>\n",
       "      <td>150</td>\n",
       "      <td>0</td>\n",
       "      <td>0.0</td>\n",
       "      <td>0</td>\n",
       "    </tr>\n",
       "  </tbody>\n",
       "</table>\n",
       "</div>"
      ],
      "text/plain": [
       "   age  sex  cp trestbps chol fbs restecg thalach exang  oldpeak  num       \n",
       "0   28    1   2      130  132   0       2     185     0      0.0           0\n",
       "1   29    1   2      120  243   0       0     160     0      0.0           0\n",
       "2   29    1   2      140    ?   0       0     170     0      0.0           0\n",
       "3   30    0   1      170  237   0       1     170     0      0.0           0\n",
       "4   31    0   2      100  219   0       1     150     0      0.0           0"
      ]
     },
     "execution_count": 6,
     "metadata": {},
     "output_type": "execute_result"
    }
   ],
   "source": [
    "for col in data.columns:\n",
    "    if 'num' in col:\n",
    "        continue\n",
    "    print(col, '\\n------------\\n') \n",
    "    print(\"Unknown % = {}\".format(len(data[data[col] == '?'])/ len(data)))\n",
    "    print(\"Median: {}\".format(data[data[col] != '?'][col].median()))\n",
    "    print(\"Mean: {}\".format(data[data[col] != '?'][col].mean()))\n",
    "temp = data.drop(['ca', 'thal', 'slope'], axis=1)\n",
    "temp.head()"
   ]
  },
  {
   "cell_type": "code",
   "execution_count": 7,
   "id": "04e9aed7",
   "metadata": {},
   "outputs": [
    {
     "name": "stdout",
     "output_type": "stream",
     "text": [
      "age \n",
      "----------------\n",
      " Empty DataFrame\n",
      "Columns: [age, sex, cp, trestbps, chol, fbs, restecg, thalach, exang, oldpeak, num       ]\n",
      "Index: [] \n",
      "-----------------------\n",
      "\n",
      "sex \n",
      "----------------\n",
      " Empty DataFrame\n",
      "Columns: [age, sex, cp, trestbps, chol, fbs, restecg, thalach, exang, oldpeak, num       ]\n",
      "Index: [] \n",
      "-----------------------\n",
      "\n",
      "cp \n",
      "----------------\n",
      " Empty DataFrame\n",
      "Columns: [age, sex, cp, trestbps, chol, fbs, restecg, thalach, exang, oldpeak, num       ]\n",
      "Index: [] \n",
      "-----------------------\n",
      "\n",
      "trestbps \n",
      "----------------\n",
      "     age  sex  cp trestbps chol fbs restecg thalach exang  oldpeak  num       \n",
      "90   48    0   2        ?  308   0       1       ?     ?      2.0           0 \n",
      "-----------------------\n",
      "\n",
      "chol \n",
      "----------------\n",
      "      age  sex  cp trestbps chol fbs restecg thalach exang  oldpeak  num       \n",
      "2     29    1   2      140    ?   0       0     170     0      0.0           0\n",
      "31    39    1   2      120    ?   0       1     146     0      2.0           0\n",
      "34    39    1   2      130    ?   0       0     120     0      0.0           0\n",
      "44    40    1   3      140    ?   0       0     188     0      0.0           0\n",
      "65    43    0   3      150    ?   0       0     175     0      0.0           0\n",
      "72    45    0   2      180    ?   0       0     180     0      0.0           0\n",
      "75    45    1   3      135    ?   0       0     110     0      0.0           0\n",
      "86    47    0   3      130    ?   0       0     145     0      2.0           0\n",
      "91    48    0   2      120    ?   1       1     148     0      0.0           0\n",
      "97    48    1   2      100    ?   0       0     100     0      0.0           0\n",
      "101   49    0   2      110    ?   0       0     160     0      0.0           0\n",
      "102   49    0   2      110    ?   0       0     160     0      0.0           0\n",
      "108   49    1   4      140    ?   0       0     130     0      0.0           0\n",
      "124   52    0   2      140    ?   0       0     140     0      0.0           0\n",
      "134   53    1   2      120    ?   0       0     132     0      0.0           0\n",
      "154   54    1   3      150    ?   0       0     122     0      0.0           0\n",
      "168   56    1   3      130    ?   0       0     114     0      0.0           0\n",
      "182   59    1   4      140    ?   0       0     140     0      0.0           0\n",
      "226   38    1   4      110    ?   0       0     150     1      1.0           1\n",
      "239   52    1   4      170    ?   0       0     126     1      1.5           1\n",
      "244   54    1   4      140    ?   0       0     118     1      0.0           1\n",
      "275   59    1   4      130    ?   0       0     125     0      0.0           1\n",
      "278   66    1   4      140    ?   0       0      94     1      1.0           1 \n",
      "-----------------------\n",
      "\n",
      "fbs \n",
      "----------------\n",
      "      age  sex  cp trestbps chol fbs restecg thalach exang  oldpeak  num       \n",
      "27    38    0   2      120  275   ?       0     129     0      0.0           0\n",
      "81    46    1   3      150  163   ?       0     116     0      0.0           0\n",
      "107   49    1   4      120  297   ?       0     132     0      1.0           0\n",
      "131   53    0   2      113  468   ?       0     127     0      0.0           0\n",
      "144   54    0   2      140  309   ?       1     140     0      0.0           0\n",
      "166   56    0   3      130  219   ?       1     164     0      0.0           0\n",
      "197   40    1   4      120  466   ?       0     152     1      1.0           1\n",
      "199   41    1   4      120  237   ?       0     138     1      1.0           1 \n",
      "-----------------------\n",
      "\n",
      "restecg \n",
      "----------------\n",
      "      age  sex  cp trestbps chol fbs restecg thalach exang  oldpeak  num       \n",
      "268   55    1   1      140  295   0       ?     136     0      0.0           1 \n",
      "-----------------------\n",
      "\n",
      "thalach \n",
      "----------------\n",
      "     age  sex  cp trestbps chol fbs restecg thalach exang  oldpeak  num       \n",
      "90   48    0   2        ?  308   0       1       ?     ?      2.0           0 \n",
      "-----------------------\n",
      "\n",
      "exang \n",
      "----------------\n",
      "     age  sex  cp trestbps chol fbs restecg thalach exang  oldpeak  num       \n",
      "90   48    0   2        ?  308   0       1       ?     ?      2.0           0 \n",
      "-----------------------\n",
      "\n",
      "oldpeak \n",
      "----------------\n",
      " Empty DataFrame\n",
      "Columns: [age, sex, cp, trestbps, chol, fbs, restecg, thalach, exang, oldpeak, num       ]\n",
      "Index: [] \n",
      "-----------------------\n",
      "\n",
      "num        \n",
      "----------------\n",
      " Empty DataFrame\n",
      "Columns: [age, sex, cp, trestbps, chol, fbs, restecg, thalach, exang, oldpeak, num       ]\n",
      "Index: [] \n",
      "-----------------------\n",
      "\n"
     ]
    }
   ],
   "source": [
    "for col in temp.columns:\n",
    "    print(col, '\\n----------------\\n',temp[temp[col] == '?'], '\\n-----------------------\\n')\n",
    "# print(temp[temp != '?'])"
   ]
  },
  {
   "cell_type": "markdown",
   "id": "a05cb323",
   "metadata": {},
   "source": [
    "# Preprocessing the Data"
   ]
  },
  {
   "cell_type": "code",
   "execution_count": 8,
   "id": "5aec4ad7",
   "metadata": {},
   "outputs": [
    {
     "data": {
      "text/html": [
       "<div>\n",
       "<style scoped>\n",
       "    .dataframe tbody tr th:only-of-type {\n",
       "        vertical-align: middle;\n",
       "    }\n",
       "\n",
       "    .dataframe tbody tr th {\n",
       "        vertical-align: top;\n",
       "    }\n",
       "\n",
       "    .dataframe thead th {\n",
       "        text-align: right;\n",
       "    }\n",
       "</style>\n",
       "<table border=\"1\" class=\"dataframe\">\n",
       "  <thead>\n",
       "    <tr style=\"text-align: right;\">\n",
       "      <th></th>\n",
       "      <th>age</th>\n",
       "      <th>sex</th>\n",
       "      <th>cp</th>\n",
       "      <th>trestbps</th>\n",
       "      <th>chol</th>\n",
       "      <th>fbs</th>\n",
       "      <th>restecg</th>\n",
       "      <th>thalach</th>\n",
       "      <th>exang</th>\n",
       "      <th>oldpeak</th>\n",
       "      <th>target</th>\n",
       "    </tr>\n",
       "  </thead>\n",
       "  <tbody>\n",
       "    <tr>\n",
       "      <th>0</th>\n",
       "      <td>28</td>\n",
       "      <td>1</td>\n",
       "      <td>2</td>\n",
       "      <td>130</td>\n",
       "      <td>132</td>\n",
       "      <td>0</td>\n",
       "      <td>2</td>\n",
       "      <td>185</td>\n",
       "      <td>0</td>\n",
       "      <td>0.0</td>\n",
       "      <td>0</td>\n",
       "    </tr>\n",
       "    <tr>\n",
       "      <th>1</th>\n",
       "      <td>29</td>\n",
       "      <td>1</td>\n",
       "      <td>2</td>\n",
       "      <td>120</td>\n",
       "      <td>243</td>\n",
       "      <td>0</td>\n",
       "      <td>0</td>\n",
       "      <td>160</td>\n",
       "      <td>0</td>\n",
       "      <td>0.0</td>\n",
       "      <td>0</td>\n",
       "    </tr>\n",
       "    <tr>\n",
       "      <th>3</th>\n",
       "      <td>30</td>\n",
       "      <td>0</td>\n",
       "      <td>1</td>\n",
       "      <td>170</td>\n",
       "      <td>237</td>\n",
       "      <td>0</td>\n",
       "      <td>1</td>\n",
       "      <td>170</td>\n",
       "      <td>0</td>\n",
       "      <td>0.0</td>\n",
       "      <td>0</td>\n",
       "    </tr>\n",
       "    <tr>\n",
       "      <th>4</th>\n",
       "      <td>31</td>\n",
       "      <td>0</td>\n",
       "      <td>2</td>\n",
       "      <td>100</td>\n",
       "      <td>219</td>\n",
       "      <td>0</td>\n",
       "      <td>1</td>\n",
       "      <td>150</td>\n",
       "      <td>0</td>\n",
       "      <td>0.0</td>\n",
       "      <td>0</td>\n",
       "    </tr>\n",
       "    <tr>\n",
       "      <th>5</th>\n",
       "      <td>32</td>\n",
       "      <td>0</td>\n",
       "      <td>2</td>\n",
       "      <td>105</td>\n",
       "      <td>198</td>\n",
       "      <td>0</td>\n",
       "      <td>0</td>\n",
       "      <td>165</td>\n",
       "      <td>0</td>\n",
       "      <td>0.0</td>\n",
       "      <td>0</td>\n",
       "    </tr>\n",
       "  </tbody>\n",
       "</table>\n",
       "</div>"
      ],
      "text/plain": [
       "   age  sex  cp trestbps chol fbs restecg thalach exang  oldpeak  target\n",
       "0   28    1   2      130  132   0       2     185     0      0.0       0\n",
       "1   29    1   2      120  243   0       0     160     0      0.0       0\n",
       "3   30    0   1      170  237   0       1     170     0      0.0       0\n",
       "4   31    0   2      100  219   0       1     150     0      0.0       0\n",
       "5   32    0   2      105  198   0       0     165     0      0.0       0"
      ]
     },
     "execution_count": 8,
     "metadata": {},
     "output_type": "execute_result"
    }
   ],
   "source": [
    "data.rename(columns={'num       ': 'target'}, inplace=True) \n",
    "data.drop(['ca', 'thal', 'slope'], axis=1, inplace=True)\n",
    "#Deleting outliers for now\n",
    "data.drop(index=[2, 31, 34, 44, 65, 72, 75, 86, 91, 97, 101, 102, 108, 124, 134, 154, 168, 182, 226, 239, 244, 275, 278, 27, 81, 107, 131, 144, 166, 197, 199, 260, 90] , inplace=True)\n",
    "\n",
    "# for col in data.columns:\n",
    "#     data.drop(index=data[data[col] == '?'], inplace=True)\n",
    "# data['chol']=data['chol'].replace('?', data[data['chol'] != '?']['chol'].median())\n",
    "# data=data.replace('?',None)\n",
    "# data=data.replace('?',0)\n",
    "\n",
    "data.head()"
   ]
  },
  {
   "cell_type": "code",
   "execution_count": 9,
   "id": "1ed55a06",
   "metadata": {},
   "outputs": [
    {
     "data": {
      "text/plain": [
       "{'age': {'mean': 47.78544061302682, 'std': 7.837424872831495},\n",
       " 'trestbps': {'mean': 132.65900383141764, 'std': 17.68115339039127},\n",
       " 'chol': {'mean': 249.34099616858236, 'std': 65.37151861285574},\n",
       " 'thalach': {'mean': 139.17241379310346, 'std': 23.703245277858866},\n",
       " 'oldpeak': {'mean': 0.6045977011494253, 'std': 0.9268958675421668}}"
      ]
     },
     "execution_count": 9,
     "metadata": {},
     "output_type": "execute_result"
    }
   ],
   "source": [
    "#Scaling the other attributes using normal scaler\n",
    "\n",
    "standardScaler = StandardScaler()\n",
    "columns_to_scale = ['age', 'trestbps', 'chol', 'thalach', 'oldpeak']\n",
    "    \n",
    "data[columns_to_scale] = standardScaler.fit_transform(data[columns_to_scale])\n",
    "scaling_values = {}\n",
    "computed_scaling_values = [standardScaler.mean_, np.sqrt(standardScaler.var_)]\n",
    "for idx, col in enumerate(columns_to_scale):\n",
    "    scaling_values[col] = {'mean': computed_scaling_values[0][idx], 'std': computed_scaling_values[1][idx]}\n",
    "scaling_values"
   ]
  },
  {
   "cell_type": "markdown",
   "id": "93c29efb",
   "metadata": {},
   "source": [
    "# Final Preprocessed Data"
   ]
  },
  {
   "cell_type": "code",
   "execution_count": 10,
   "id": "f9a15e83",
   "metadata": {},
   "outputs": [
    {
     "data": {
      "text/html": [
       "<div>\n",
       "<style scoped>\n",
       "    .dataframe tbody tr th:only-of-type {\n",
       "        vertical-align: middle;\n",
       "    }\n",
       "\n",
       "    .dataframe tbody tr th {\n",
       "        vertical-align: top;\n",
       "    }\n",
       "\n",
       "    .dataframe thead th {\n",
       "        text-align: right;\n",
       "    }\n",
       "</style>\n",
       "<table border=\"1\" class=\"dataframe\">\n",
       "  <thead>\n",
       "    <tr style=\"text-align: right;\">\n",
       "      <th></th>\n",
       "      <th>age</th>\n",
       "      <th>sex</th>\n",
       "      <th>cp</th>\n",
       "      <th>trestbps</th>\n",
       "      <th>chol</th>\n",
       "      <th>fbs</th>\n",
       "      <th>restecg</th>\n",
       "      <th>thalach</th>\n",
       "      <th>exang</th>\n",
       "      <th>oldpeak</th>\n",
       "      <th>target</th>\n",
       "    </tr>\n",
       "  </thead>\n",
       "  <tbody>\n",
       "    <tr>\n",
       "      <th>0</th>\n",
       "      <td>-2.524482</td>\n",
       "      <td>1</td>\n",
       "      <td>2</td>\n",
       "      <td>-0.150386</td>\n",
       "      <td>-1.794987</td>\n",
       "      <td>0</td>\n",
       "      <td>2</td>\n",
       "      <td>1.933389</td>\n",
       "      <td>0</td>\n",
       "      <td>-0.652282</td>\n",
       "      <td>0</td>\n",
       "    </tr>\n",
       "    <tr>\n",
       "      <th>1</th>\n",
       "      <td>-2.396889</td>\n",
       "      <td>1</td>\n",
       "      <td>2</td>\n",
       "      <td>-0.715960</td>\n",
       "      <td>-0.096999</td>\n",
       "      <td>0</td>\n",
       "      <td>0</td>\n",
       "      <td>0.878681</td>\n",
       "      <td>0</td>\n",
       "      <td>-0.652282</td>\n",
       "      <td>0</td>\n",
       "    </tr>\n",
       "    <tr>\n",
       "      <th>3</th>\n",
       "      <td>-2.269296</td>\n",
       "      <td>0</td>\n",
       "      <td>1</td>\n",
       "      <td>2.111910</td>\n",
       "      <td>-0.188782</td>\n",
       "      <td>0</td>\n",
       "      <td>1</td>\n",
       "      <td>1.300564</td>\n",
       "      <td>0</td>\n",
       "      <td>-0.652282</td>\n",
       "      <td>0</td>\n",
       "    </tr>\n",
       "    <tr>\n",
       "      <th>4</th>\n",
       "      <td>-2.141704</td>\n",
       "      <td>0</td>\n",
       "      <td>2</td>\n",
       "      <td>-1.847108</td>\n",
       "      <td>-0.464132</td>\n",
       "      <td>0</td>\n",
       "      <td>1</td>\n",
       "      <td>0.456798</td>\n",
       "      <td>0</td>\n",
       "      <td>-0.652282</td>\n",
       "      <td>0</td>\n",
       "    </tr>\n",
       "    <tr>\n",
       "      <th>5</th>\n",
       "      <td>-2.014111</td>\n",
       "      <td>0</td>\n",
       "      <td>2</td>\n",
       "      <td>-1.564321</td>\n",
       "      <td>-0.785373</td>\n",
       "      <td>0</td>\n",
       "      <td>0</td>\n",
       "      <td>1.089622</td>\n",
       "      <td>0</td>\n",
       "      <td>-0.652282</td>\n",
       "      <td>0</td>\n",
       "    </tr>\n",
       "  </tbody>\n",
       "</table>\n",
       "</div>"
      ],
      "text/plain": [
       "        age  sex  cp  trestbps      chol fbs restecg   thalach exang  \\\n",
       "0 -2.524482    1   2 -0.150386 -1.794987   0       2  1.933389     0   \n",
       "1 -2.396889    1   2 -0.715960 -0.096999   0       0  0.878681     0   \n",
       "3 -2.269296    0   1  2.111910 -0.188782   0       1  1.300564     0   \n",
       "4 -2.141704    0   2 -1.847108 -0.464132   0       1  0.456798     0   \n",
       "5 -2.014111    0   2 -1.564321 -0.785373   0       0  1.089622     0   \n",
       "\n",
       "    oldpeak  target  \n",
       "0 -0.652282       0  \n",
       "1 -0.652282       0  \n",
       "3 -0.652282       0  \n",
       "4 -0.652282       0  \n",
       "5 -0.652282       0  "
      ]
     },
     "execution_count": 10,
     "metadata": {},
     "output_type": "execute_result"
    }
   ],
   "source": [
    "data.head()"
   ]
  },
  {
   "cell_type": "markdown",
   "id": "f0909fd3",
   "metadata": {},
   "source": [
    "# Splitting data as Train and Test"
   ]
  },
  {
   "cell_type": "code",
   "execution_count": 11,
   "id": "f3374005",
   "metadata": {},
   "outputs": [],
   "source": [
    "y = data['target']\n",
    "X = data.drop('target',axis=1)\n",
    "X_train, X_test, y_train, y_test = train_test_split(X, y, test_size=0.20, random_state=0)\n",
    "\n",
    "#80% Train and 20% Test Data"
   ]
  },
  {
   "cell_type": "code",
   "execution_count": 12,
   "id": "6ccf2059",
   "metadata": {},
   "outputs": [
    {
     "name": "stderr",
     "output_type": "stream",
     "text": [
      "c:\\users\\srinivas\\appdata\\local\\programs\\python\\python38\\lib\\site-packages\\seaborn\\_decorators.py:36: FutureWarning: Pass the following variable as a keyword arg: x. From version 0.12, the only valid positional argument will be `data`, and passing other arguments without an explicit keyword will result in an error or misinterpretation.\n",
      "  warnings.warn(\n"
     ]
    },
    {
     "data": {
      "image/png": "[encoded data removed]",
      "text/plain": [
       "<Figure size 432x288 with 1 Axes>"
      ]
     },
     "metadata": {
      "needs_background": "light"
     },
     "output_type": "display_data"
    }
   ],
   "source": [
    "#Plotting the Target (Heart Disease)\n",
    "plt.figure(figsize=(6,4))\n",
    "sns.countplot(y)\n",
    "plt.show()"
   ]
  },
  {
   "cell_type": "code",
   "execution_count": 13,
   "id": "bccdd184",
   "metadata": {},
   "outputs": [
    {
     "name": "stdout",
     "output_type": "stream",
     "text": [
      "(208, 10)\n",
      "(53, 10)\n"
     ]
    }
   ],
   "source": [
    "#Analysing the shape of X_train and X_test Data\n",
    "\n",
    "print(X_train.shape)\n",
    "print(X_test.shape)"
   ]
  },
  {
   "cell_type": "code",
   "execution_count": 38,
   "id": "ab7f5e92",
   "metadata": {},
   "outputs": [
    {
     "data": {
      "text/html": [
       "        <script type=\"text/javascript\">\n",
       "        window.PlotlyConfig = {MathJaxConfig: 'local'};\n",
       "        if (window.MathJax) {MathJax.Hub.Config({SVG: {font: \"STIX-Web\"}});}\n",
       "        if (typeof require !== 'undefined') {\n",
       "        require.undef(\"plotly\");\n",
       "        requirejs.config({\n",
       "            paths: {\n",
       "                'plotly': ['https://cdn.plot.ly/plotly-2.2.0.min']\n",
       "            }\n",
       "        });\n",
       "        require(['plotly'], function(Plotly) {\n",
       "            window._Plotly = Plotly;\n",
       "        });\n",
       "        }\n",
       "        </script>\n",
       "        "
      ]
     },
     "metadata": {},
     "output_type": "display_data"
    }
   ],
   "source": [
    "from plotly.offline import init_notebook_mode, iplot\n",
    "init_notebook_mode(connected=True)\n",
    "import plotly.graph_objs as go"
   ]
  },
  {
   "cell_type": "markdown",
   "id": "0853d532",
   "metadata": {},
   "source": [
    "# Surface contours using plotly"
   ]
  },
  {
   "cell_type": "code",
   "execution_count": 40,
   "id": "c20878bf",
   "metadata": {},
   "outputs": [
    {
     "name": "stderr",
     "output_type": "stream",
     "text": [
      "c:\\users\\srinivas\\appdata\\local\\programs\\python\\python38\\lib\\site-packages\\plotly\\graph_objs\\_deprecations.py:204: DeprecationWarning:\n",
      "\n",
      "plotly.graph_objs.Contours is deprecated.\n",
      "Please replace it with one of the following more specific types\n",
      "  - plotly.graph_objs.contour.Contours\n",
      "  - plotly.graph_objs.surface.Contours\n",
      "  - etc.\n",
      "\n",
      "\n"
     ]
    },
    {
     "data": {
      "application/vnd.plotly.v1+json": {
       "config": {
        "linkText": "Export to plot.ly",
        "plotlyServerURL": "https://plot.ly",
        "showLink": false
       },
       "data": [
        {
         "contours": {
          "coloring": "heatmap"
         },
         "type": "histogram2dcontour",
         "x": [
          -2.5244823311306286,
          -2.3968894015363036,
          -2.2692964719419786,
          -2.1417035423476536,
          -2.0141106127533286,
          -2.0141106127533286,
          -2.0141106127533286,
          -1.8865176831590038,
          -1.758924753564679,
          -1.758924753564679,
          -1.758924753564679,
          -1.631331823970354,
          -1.631331823970354,
          -1.631331823970354,
          -1.631331823970354,
          -1.503738894376029,
          -1.503738894376029,
          -1.503738894376029,
          -1.503738894376029,
          -1.376145964781704,
          -1.376145964781704,
          -1.376145964781704,
          -1.376145964781704,
          -1.376145964781704,
          -1.376145964781704,
          -1.376145964781704,
          -1.2485530351873793,
          -1.2485530351873793,
          -1.1209601055930543,
          -1.1209601055930543,
          -1.1209601055930543,
          -1.1209601055930543,
          -1.1209601055930543,
          -1.1209601055930543,
          -1.1209601055930543,
          -1.1209601055930543,
          -0.9933671759987293,
          -0.9933671759987293,
          -0.9933671759987293,
          -0.9933671759987293,
          -0.8657742464044044,
          -0.8657742464044044,
          -0.8657742464044044,
          -0.8657742464044044,
          -0.8657742464044044,
          -0.8657742464044044,
          -0.8657742464044044,
          -0.7381813168100794,
          -0.7381813168100794,
          -0.7381813168100794,
          -0.7381813168100794,
          -0.7381813168100794,
          -0.7381813168100794,
          -0.7381813168100794,
          -0.6105883872157545,
          -0.6105883872157545,
          -0.6105883872157545,
          -0.6105883872157545,
          -0.6105883872157545,
          -0.6105883872157545,
          -0.6105883872157545,
          -0.4829954576214295,
          -0.4829954576214295,
          -0.4829954576214295,
          -0.4829954576214295,
          -0.35540252802710454,
          -0.35540252802710454,
          -0.35540252802710454,
          -0.35540252802710454,
          -0.35540252802710454,
          -0.22780959843277962,
          -0.22780959843277962,
          -0.22780959843277962,
          -0.22780959843277962,
          -0.22780959843277962,
          -0.22780959843277962,
          -0.10021666883845468,
          -0.10021666883845468,
          -0.10021666883845468,
          -0.10021666883845468,
          0.02737626075587026,
          0.02737626075587026,
          0.02737626075587026,
          0.02737626075587026,
          0.02737626075587026,
          0.02737626075587026,
          0.02737626075587026,
          0.02737626075587026,
          0.1549691903501952,
          0.1549691903501952,
          0.1549691903501952,
          0.1549691903501952,
          0.28256211994452013,
          0.28256211994452013,
          0.28256211994452013,
          0.28256211994452013,
          0.28256211994452013,
          0.28256211994452013,
          0.28256211994452013,
          0.4101550495388451,
          0.4101550495388451,
          0.4101550495388451,
          0.4101550495388451,
          0.4101550495388451,
          0.4101550495388451,
          0.4101550495388451,
          0.5377479791331701,
          0.5377479791331701,
          0.5377479791331701,
          0.5377479791331701,
          0.5377479791331701,
          0.5377479791331701,
          0.5377479791331701,
          0.665340908727495,
          0.665340908727495,
          0.665340908727495,
          0.665340908727495,
          0.665340908727495,
          0.665340908727495,
          0.665340908727495,
          0.79293383832182,
          0.79293383832182,
          0.79293383832182,
          0.79293383832182,
          0.79293383832182,
          0.79293383832182,
          0.79293383832182,
          0.79293383832182,
          0.79293383832182,
          0.79293383832182,
          0.79293383832182,
          0.79293383832182,
          0.79293383832182,
          0.79293383832182,
          0.9205267679161449,
          0.9205267679161449,
          0.9205267679161449,
          0.9205267679161449,
          0.9205267679161449,
          0.9205267679161449,
          0.9205267679161449,
          0.9205267679161449,
          0.9205267679161449,
          0.9205267679161449,
          1.0481196975104698,
          1.0481196975104698,
          1.0481196975104698,
          1.1757126271047948,
          1.1757126271047948,
          1.1757126271047948,
          1.3033055566991196,
          1.3033055566991196,
          1.3033055566991196,
          1.3033055566991196,
          1.4308984862934446,
          1.4308984862934446,
          1.4308984862934446,
          1.4308984862934446,
          1.5584914158877696,
          1.6860843454820944,
          1.6860843454820944,
          1.8136772750764194,
          1.8136772750764194,
          -2.1417035423476536,
          -1.8865176831590038,
          -1.758924753564679,
          -1.631331823970354,
          -1.503738894376029,
          -1.376145964781704,
          -1.2485530351873793,
          -1.2485530351873793,
          -1.2485530351873793,
          -0.8657742464044044,
          -0.6105883872157545,
          -0.22780959843277962,
          -0.22780959843277962,
          -0.22780959843277962,
          -0.10021666883845468,
          -0.10021666883845468,
          0.02737626075587026,
          0.02737626075587026,
          0.02737626075587026,
          0.1549691903501952,
          0.1549691903501952,
          0.1549691903501952,
          0.28256211994452013,
          0.28256211994452013,
          0.4101550495388451,
          0.5377479791331701,
          0.79293383832182,
          0.79293383832182,
          0.9205267679161449,
          1.1757126271047948,
          1.3033055566991196,
          1.4308984862934446,
          1.5584914158877696,
          1.9412702046707444,
          2.196456063859394,
          -2.0141106127533286,
          -1.1209601055930543,
          -0.9933671759987293,
          -0.6105883872157545,
          -0.35540252802710454,
          -0.22780959843277962,
          -0.22780959843277962,
          0.02737626075587026,
          0.02737626075587026,
          0.02737626075587026,
          0.02737626075587026,
          0.28256211994452013,
          0.5377479791331701,
          0.665340908727495,
          0.79293383832182,
          0.79293383832182,
          0.79293383832182,
          0.79293383832182,
          0.9205267679161449,
          1.0481196975104698,
          1.1757126271047948,
          1.3033055566991196,
          1.3033055566991196,
          -0.8657742464044044,
          -0.6105883872157545,
          -0.4829954576214295,
          -0.4829954576214295,
          -0.22780959843277962,
          -0.10021666883845468,
          0.02737626075587026,
          0.1549691903501952,
          0.1549691903501952,
          0.5377479791331701,
          0.5377479791331701,
          0.5377479791331701,
          0.5377479791331701,
          0.665340908727495,
          0.665340908727495,
          0.79293383832182,
          0.9205267679161449,
          0.9205267679161449,
          0.9205267679161449,
          1.0481196975104698,
          1.0481196975104698,
          1.0481196975104698,
          1.3033055566991196,
          1.4308984862934446,
          2.196456063859394,
          -0.8657742464044044,
          -0.6105883872157545,
          -0.4829954576214295,
          -0.10021666883845468,
          -0.10021666883845468,
          0.1549691903501952,
          0.1549691903501952,
          0.28256211994452013,
          0.28256211994452013,
          0.5377479791331701,
          0.5377479791331701,
          0.79293383832182,
          1.0481196975104698,
          1.3033055566991196,
          2.196456063859394
         ],
         "y": [
          "false",
          "false",
          "false",
          "false",
          "false",
          "false",
          "false",
          "false",
          "false",
          "false",
          "false",
          "false",
          "false",
          "false",
          "false",
          "false",
          "false",
          "false",
          "false",
          "false",
          "false",
          "false",
          "false",
          "false",
          "false",
          "false",
          "false",
          "false",
          "false",
          "false",
          "false",
          "false",
          "false",
          "false",
          "false",
          "false",
          "false",
          "false",
          "false",
          "false",
          "false",
          "false",
          "false",
          "false",
          "false",
          "false",
          "false",
          "false",
          "false",
          "false",
          "false",
          "false",
          "false",
          "false",
          "false",
          "false",
          "false",
          "false",
          "false",
          "false",
          "false",
          "false",
          "false",
          "false",
          "false",
          "false",
          "false",
          "false",
          "false",
          "false",
          "false",
          "false",
          "false",
          "false",
          "false",
          "false",
          "false",
          "false",
          "false",
          "false",
          "false",
          "false",
          "false",
          "false",
          "false",
          "false",
          "false",
          "false",
          "false",
          "false",
          "false",
          "false",
          "false",
          "false",
          "false",
          "false",
          "false",
          "false",
          "false",
          "false",
          "false",
          "false",
          "false",
          "false",
          "false",
          "false",
          "false",
          "false",
          "false",
          "false",
          "false",
          "false",
          "false",
          "false",
          "false",
          "false",
          "false",
          "false",
          "false",
          "false",
          "false",
          "false",
          "false",
          "false",
          "false",
          "false",
          "false",
          "false",
          "false",
          "false",
          "false",
          "false",
          "false",
          "false",
          "false",
          "false",
          "false",
          "false",
          "false",
          "false",
          "false",
          "false",
          "false",
          "false",
          "false",
          "false",
          "false",
          "false",
          "false",
          "false",
          "false",
          "false",
          "false",
          "false",
          "false",
          "false",
          "false",
          "false",
          "false",
          "false",
          "false",
          "false",
          "false",
          "false",
          "false",
          "false",
          "false",
          "false",
          "false",
          "false",
          "false",
          "false",
          "false",
          "false",
          "false",
          "false",
          "false",
          "false",
          "false",
          "false",
          "false",
          "false",
          "false",
          "false",
          "false",
          "false",
          "false",
          "false",
          "false",
          "false",
          "false",
          "false",
          "false",
          "false",
          "false",
          "false",
          "false",
          "false",
          "false",
          "false",
          "false",
          "false",
          "false",
          "false",
          "false",
          "false",
          "false",
          "false",
          "false",
          "false",
          "false",
          "false",
          "false",
          "false",
          "false",
          "false",
          "false",
          "false",
          "false",
          "false",
          "false",
          "false",
          "false",
          "false",
          "false",
          "false",
          "false",
          "false",
          "false",
          "false",
          "false",
          "false",
          "false",
          "false",
          "false",
          "false",
          "false",
          "false",
          "false",
          "false",
          "false",
          "false",
          "false",
          "false",
          "false",
          "false",
          "false",
          "false",
          "false",
          "false",
          "false",
          "false",
          "false",
          "false",
          "false",
          "false",
          "false",
          "false",
          "false",
          "false",
          "false"
         ]
        },
        {
         "mode": "markers",
         "type": "scatter",
         "x": [
          -2.5244823311306286,
          -2.3968894015363036,
          -2.2692964719419786,
          -2.1417035423476536,
          -2.0141106127533286,
          -2.0141106127533286,
          -2.0141106127533286,
          -1.8865176831590038,
          -1.758924753564679,
          -1.758924753564679,
          -1.758924753564679,
          -1.631331823970354,
          -1.631331823970354,
          -1.631331823970354,
          -1.631331823970354,
          -1.503738894376029,
          -1.503738894376029,
          -1.503738894376029,
          -1.503738894376029,
          -1.376145964781704,
          -1.376145964781704,
          -1.376145964781704,
          -1.376145964781704,
          -1.376145964781704,
          -1.376145964781704,
          -1.376145964781704,
          -1.2485530351873793,
          -1.2485530351873793,
          -1.1209601055930543,
          -1.1209601055930543,
          -1.1209601055930543,
          -1.1209601055930543,
          -1.1209601055930543,
          -1.1209601055930543,
          -1.1209601055930543,
          -1.1209601055930543,
          -0.9933671759987293,
          -0.9933671759987293,
          -0.9933671759987293,
          -0.9933671759987293,
          -0.8657742464044044,
          -0.8657742464044044,
          -0.8657742464044044,
          -0.8657742464044044,
          -0.8657742464044044,
          -0.8657742464044044,
          -0.8657742464044044,
          -0.7381813168100794,
          -0.7381813168100794,
          -0.7381813168100794,
          -0.7381813168100794,
          -0.7381813168100794,
          -0.7381813168100794,
          -0.7381813168100794,
          -0.6105883872157545,
          -0.6105883872157545,
          -0.6105883872157545,
          -0.6105883872157545,
          -0.6105883872157545,
          -0.6105883872157545,
          -0.6105883872157545,
          -0.4829954576214295,
          -0.4829954576214295,
          -0.4829954576214295,
          -0.4829954576214295,
          -0.35540252802710454,
          -0.35540252802710454,
          -0.35540252802710454,
          -0.35540252802710454,
          -0.35540252802710454,
          -0.22780959843277962,
          -0.22780959843277962,
          -0.22780959843277962,
          -0.22780959843277962,
          -0.22780959843277962,
          -0.22780959843277962,
          -0.10021666883845468,
          -0.10021666883845468,
          -0.10021666883845468,
          -0.10021666883845468,
          0.02737626075587026,
          0.02737626075587026,
          0.02737626075587026,
          0.02737626075587026,
          0.02737626075587026,
          0.02737626075587026,
          0.02737626075587026,
          0.02737626075587026,
          0.1549691903501952,
          0.1549691903501952,
          0.1549691903501952,
          0.1549691903501952,
          0.28256211994452013,
          0.28256211994452013,
          0.28256211994452013,
          0.28256211994452013,
          0.28256211994452013,
          0.28256211994452013,
          0.28256211994452013,
          0.4101550495388451,
          0.4101550495388451,
          0.4101550495388451,
          0.4101550495388451,
          0.4101550495388451,
          0.4101550495388451,
          0.4101550495388451,
          0.5377479791331701,
          0.5377479791331701,
          0.5377479791331701,
          0.5377479791331701,
          0.5377479791331701,
          0.5377479791331701,
          0.5377479791331701,
          0.665340908727495,
          0.665340908727495,
          0.665340908727495,
          0.665340908727495,
          0.665340908727495,
          0.665340908727495,
          0.665340908727495,
          0.79293383832182,
          0.79293383832182,
          0.79293383832182,
          0.79293383832182,
          0.79293383832182,
          0.79293383832182,
          0.79293383832182,
          0.79293383832182,
          0.79293383832182,
          0.79293383832182,
          0.79293383832182,
          0.79293383832182,
          0.79293383832182,
          0.79293383832182,
          0.9205267679161449,
          0.9205267679161449,
          0.9205267679161449,
          0.9205267679161449,
          0.9205267679161449,
          0.9205267679161449,
          0.9205267679161449,
          0.9205267679161449,
          0.9205267679161449,
          0.9205267679161449,
          1.0481196975104698,
          1.0481196975104698,
          1.0481196975104698,
          1.1757126271047948,
          1.1757126271047948,
          1.1757126271047948,
          1.3033055566991196,
          1.3033055566991196,
          1.3033055566991196,
          1.3033055566991196,
          1.4308984862934446,
          1.4308984862934446,
          1.4308984862934446,
          1.4308984862934446,
          1.5584914158877696,
          1.6860843454820944,
          1.6860843454820944,
          1.8136772750764194,
          1.8136772750764194,
          -2.1417035423476536,
          -1.8865176831590038,
          -1.758924753564679,
          -1.631331823970354,
          -1.503738894376029,
          -1.376145964781704,
          -1.2485530351873793,
          -1.2485530351873793,
          -1.2485530351873793,
          -0.8657742464044044,
          -0.6105883872157545,
          -0.22780959843277962,
          -0.22780959843277962,
          -0.22780959843277962,
          -0.10021666883845468,
          -0.10021666883845468,
          0.02737626075587026,
          0.02737626075587026,
          0.02737626075587026,
          0.1549691903501952,
          0.1549691903501952,
          0.1549691903501952,
          0.28256211994452013,
          0.28256211994452013,
          0.4101550495388451,
          0.5377479791331701,
          0.79293383832182,
          0.79293383832182,
          0.9205267679161449,
          1.1757126271047948,
          1.3033055566991196,
          1.4308984862934446,
          1.5584914158877696,
          1.9412702046707444,
          2.196456063859394,
          -2.0141106127533286,
          -1.1209601055930543,
          -0.9933671759987293,
          -0.6105883872157545,
          -0.35540252802710454,
          -0.22780959843277962,
          -0.22780959843277962,
          0.02737626075587026,
          0.02737626075587026,
          0.02737626075587026,
          0.02737626075587026,
          0.28256211994452013,
          0.5377479791331701,
          0.665340908727495,
          0.79293383832182,
          0.79293383832182,
          0.79293383832182,
          0.79293383832182,
          0.9205267679161449,
          1.0481196975104698,
          1.1757126271047948,
          1.3033055566991196,
          1.3033055566991196,
          -0.8657742464044044,
          -0.6105883872157545,
          -0.4829954576214295,
          -0.4829954576214295,
          -0.22780959843277962,
          -0.10021666883845468,
          0.02737626075587026,
          0.1549691903501952,
          0.1549691903501952,
          0.5377479791331701,
          0.5377479791331701,
          0.5377479791331701,
          0.5377479791331701,
          0.665340908727495,
          0.665340908727495,
          0.79293383832182,
          0.9205267679161449,
          0.9205267679161449,
          0.9205267679161449,
          1.0481196975104698,
          1.0481196975104698,
          1.0481196975104698,
          1.3033055566991196,
          1.4308984862934446,
          2.196456063859394,
          -0.8657742464044044,
          -0.6105883872157545,
          -0.4829954576214295,
          -0.10021666883845468,
          -0.10021666883845468,
          0.1549691903501952,
          0.1549691903501952,
          0.28256211994452013,
          0.28256211994452013,
          0.5377479791331701,
          0.5377479791331701,
          0.79293383832182,
          1.0481196975104698,
          1.3033055566991196,
          2.196456063859394
         ],
         "y": [
          "false",
          "false",
          "false",
          "false",
          "false",
          "false",
          "false",
          "false",
          "false",
          "false",
          "false",
          "false",
          "false",
          "false",
          "false",
          "false",
          "false",
          "false",
          "false",
          "false",
          "false",
          "false",
          "false",
          "false",
          "false",
          "false",
          "false",
          "false",
          "false",
          "false",
          "false",
          "false",
          "false",
          "false",
          "false",
          "false",
          "false",
          "false",
          "false",
          "false",
          "false",
          "false",
          "false",
          "false",
          "false",
          "false",
          "false",
          "false",
          "false",
          "false",
          "false",
          "false",
          "false",
          "false",
          "false",
          "false",
          "false",
          "false",
          "false",
          "false",
          "false",
          "false",
          "false",
          "false",
          "false",
          "false",
          "false",
          "false",
          "false",
          "false",
          "false",
          "false",
          "false",
          "false",
          "false",
          "false",
          "false",
          "false",
          "false",
          "false",
          "false",
          "false",
          "false",
          "false",
          "false",
          "false",
          "false",
          "false",
          "false",
          "false",
          "false",
          "false",
          "false",
          "false",
          "false",
          "false",
          "false",
          "false",
          "false",
          "false",
          "false",
          "false",
          "false",
          "false",
          "false",
          "false",
          "false",
          "false",
          "false",
          "false",
          "false",
          "false",
          "false",
          "false",
          "false",
          "false",
          "false",
          "false",
          "false",
          "false",
          "false",
          "false",
          "false",
          "false",
          "false",
          "false",
          "false",
          "false",
          "false",
          "false",
          "false",
          "false",
          "false",
          "false",
          "false",
          "false",
          "false",
          "false",
          "false",
          "false",
          "false",
          "false",
          "false",
          "false",
          "false",
          "false",
          "false",
          "false",
          "false",
          "false",
          "false",
          "false",
          "false",
          "false",
          "false",
          "false",
          "false",
          "false",
          "false",
          "false",
          "false",
          "false",
          "false",
          "false",
          "false",
          "false",
          "false",
          "false",
          "false",
          "false",
          "false",
          "false",
          "false",
          "false",
          "false",
          "false",
          "false",
          "false",
          "false",
          "false",
          "false",
          "false",
          "false",
          "false",
          "false",
          "false",
          "false",
          "false",
          "false",
          "false",
          "false",
          "false",
          "false",
          "false",
          "false",
          "false",
          "false",
          "false",
          "false",
          "false",
          "false",
          "false",
          "false",
          "false",
          "false",
          "false",
          "false",
          "false",
          "false",
          "false",
          "false",
          "false",
          "false",
          "false",
          "false",
          "false",
          "false",
          "false",
          "false",
          "false",
          "false",
          "false",
          "false",
          "false",
          "false",
          "false",
          "false",
          "false",
          "false",
          "false",
          "false",
          "false",
          "false",
          "false",
          "false",
          "false",
          "false",
          "false",
          "false",
          "false",
          "false",
          "false",
          "false",
          "false",
          "false",
          "false",
          "false",
          "false",
          "false",
          "false",
          "false",
          "false",
          "false",
          "false",
          "false",
          "false",
          "false",
          "false",
          "false",
          "false",
          "false"
         ]
        }
       ],
       "layout": {
        "template": {
         "data": {
          "bar": [
           {
            "error_x": {
             "color": "#2a3f5f"
            },
            "error_y": {
             "color": "#2a3f5f"
            },
            "marker": {
             "line": {
              "color": "#E5ECF6",
              "width": 0.5
             },
             "pattern": {
              "fillmode": "overlay",
              "size": 10,
              "solidity": 0.2
             }
            },
            "type": "bar"
           }
          ],
          "barpolar": [
           {
            "marker": {
             "line": {
              "color": "#E5ECF6",
              "width": 0.5
             },
             "pattern": {
              "fillmode": "overlay",
              "size": 10,
              "solidity": 0.2
             }
            },
            "type": "barpolar"
           }
          ],
          "carpet": [
           {
            "aaxis": {
             "endlinecolor": "#2a3f5f",
             "gridcolor": "white",
             "linecolor": "white",
             "minorgridcolor": "white",
             "startlinecolor": "#2a3f5f"
            },
            "baxis": {
             "endlinecolor": "#2a3f5f",
             "gridcolor": "white",
             "linecolor": "white",
             "minorgridcolor": "white",
             "startlinecolor": "#2a3f5f"
            },
            "type": "carpet"
           }
          ],
          "choropleth": [
           {
            "colorbar": {
             "outlinewidth": 0,
             "ticks": ""
            },
            "type": "choropleth"
           }
          ],
          "contour": [
           {
            "colorbar": {
             "outlinewidth": 0,
             "ticks": ""
            },
            "colorscale": [
             [
              0,
              "#0d0887"
             ],
             [
              0.1111111111111111,
              "#46039f"
             ],
             [
              0.2222222222222222,
              "#7201a8"
             ],
             [
              0.3333333333333333,
              "#9c179e"
             ],
             [
              0.4444444444444444,
              "#bd3786"
             ],
             [
              0.5555555555555556,
              "#d8576b"
             ],
             [
              0.6666666666666666,
              "#ed7953"
             ],
             [
              0.7777777777777778,
              "#fb9f3a"
             ],
             [
              0.8888888888888888,
              "#fdca26"
             ],
             [
              1,
              "#f0f921"
             ]
            ],
            "type": "contour"
           }
          ],
          "contourcarpet": [
           {
            "colorbar": {
             "outlinewidth": 0,
             "ticks": ""
            },
            "type": "contourcarpet"
           }
          ],
          "heatmap": [
           {
            "colorbar": {
             "outlinewidth": 0,
             "ticks": ""
            },
            "colorscale": [
             [
              0,
              "#0d0887"
             ],
             [
              0.1111111111111111,
              "#46039f"
             ],
             [
              0.2222222222222222,
              "#7201a8"
             ],
             [
              0.3333333333333333,
              "#9c179e"
             ],
             [
              0.4444444444444444,
              "#bd3786"
             ],
             [
              0.5555555555555556,
              "#d8576b"
             ],
             [
              0.6666666666666666,
              "#ed7953"
             ],
             [
              0.7777777777777778,
              "#fb9f3a"
             ],
             [
              0.8888888888888888,
              "#fdca26"
             ],
             [
              1,
              "#f0f921"
             ]
            ],
            "type": "heatmap"
           }
          ],
          "heatmapgl": [
           {
            "colorbar": {
             "outlinewidth": 0,
             "ticks": ""
            },
            "colorscale": [
             [
              0,
              "#0d0887"
             ],
             [
              0.1111111111111111,
              "#46039f"
             ],
             [
              0.2222222222222222,
              "#7201a8"
             ],
             [
              0.3333333333333333,
              "#9c179e"
             ],
             [
              0.4444444444444444,
              "#bd3786"
             ],
             [
              0.5555555555555556,
              "#d8576b"
             ],
             [
              0.6666666666666666,
              "#ed7953"
             ],
             [
              0.7777777777777778,
              "#fb9f3a"
             ],
             [
              0.8888888888888888,
              "#fdca26"
             ],
             [
              1,
              "#f0f921"
             ]
            ],
            "type": "heatmapgl"
           }
          ],
          "histogram": [
           {
            "marker": {
             "pattern": {
              "fillmode": "overlay",
              "size": 10,
              "solidity": 0.2
             }
            },
            "type": "histogram"
           }
          ],
          "histogram2d": [
           {
            "colorbar": {
             "outlinewidth": 0,
             "ticks": ""
            },
            "colorscale": [
             [
              0,
              "#0d0887"
             ],
             [
              0.1111111111111111,
              "#46039f"
             ],
             [
              0.2222222222222222,
              "#7201a8"
             ],
             [
              0.3333333333333333,
              "#9c179e"
             ],
             [
              0.4444444444444444,
              "#bd3786"
             ],
             [
              0.5555555555555556,
              "#d8576b"
             ],
             [
              0.6666666666666666,
              "#ed7953"
             ],
             [
              0.7777777777777778,
              "#fb9f3a"
             ],
             [
              0.8888888888888888,
              "#fdca26"
             ],
             [
              1,
              "#f0f921"
             ]
            ],
            "type": "histogram2d"
           }
          ],
          "histogram2dcontour": [
           {
            "colorbar": {
             "outlinewidth": 0,
             "ticks": ""
            },
            "colorscale": [
             [
              0,
              "#0d0887"
             ],
             [
              0.1111111111111111,
              "#46039f"
             ],
             [
              0.2222222222222222,
              "#7201a8"
             ],
             [
              0.3333333333333333,
              "#9c179e"
             ],
             [
              0.4444444444444444,
              "#bd3786"
             ],
             [
              0.5555555555555556,
              "#d8576b"
             ],
             [
              0.6666666666666666,
              "#ed7953"
             ],
             [
              0.7777777777777778,
              "#fb9f3a"
             ],
             [
              0.8888888888888888,
              "#fdca26"
             ],
             [
              1,
              "#f0f921"
             ]
            ],
            "type": "histogram2dcontour"
           }
          ],
          "mesh3d": [
           {
            "colorbar": {
             "outlinewidth": 0,
             "ticks": ""
            },
            "type": "mesh3d"
           }
          ],
          "parcoords": [
           {
            "line": {
             "colorbar": {
              "outlinewidth": 0,
              "ticks": ""
             }
            },
            "type": "parcoords"
           }
          ],
          "pie": [
           {
            "automargin": true,
            "type": "pie"
           }
          ],
          "scatter": [
           {
            "marker": {
             "colorbar": {
              "outlinewidth": 0,
              "ticks": ""
             }
            },
            "type": "scatter"
           }
          ],
          "scatter3d": [
           {
            "line": {
             "colorbar": {
              "outlinewidth": 0,
              "ticks": ""
             }
            },
            "marker": {
             "colorbar": {
              "outlinewidth": 0,
              "ticks": ""
             }
            },
            "type": "scatter3d"
           }
          ],
          "scattercarpet": [
           {
            "marker": {
             "colorbar": {
              "outlinewidth": 0,
              "ticks": ""
             }
            },
            "type": "scattercarpet"
           }
          ],
          "scattergeo": [
           {
            "marker": {
             "colorbar": {
              "outlinewidth": 0,
              "ticks": ""
             }
            },
            "type": "scattergeo"
           }
          ],
          "scattergl": [
           {
            "marker": {
             "colorbar": {
              "outlinewidth": 0,
              "ticks": ""
             }
            },
            "type": "scattergl"
           }
          ],
          "scattermapbox": [
           {
            "marker": {
             "colorbar": {
              "outlinewidth": 0,
              "ticks": ""
             }
            },
            "type": "scattermapbox"
           }
          ],
          "scatterpolar": [
           {
            "marker": {
             "colorbar": {
              "outlinewidth": 0,
              "ticks": ""
             }
            },
            "type": "scatterpolar"
           }
          ],
          "scatterpolargl": [
           {
            "marker": {
             "colorbar": {
              "outlinewidth": 0,
              "ticks": ""
             }
            },
            "type": "scatterpolargl"
           }
          ],
          "scatterternary": [
           {
            "marker": {
             "colorbar": {
              "outlinewidth": 0,
              "ticks": ""
             }
            },
            "type": "scatterternary"
           }
          ],
          "surface": [
           {
            "colorbar": {
             "outlinewidth": 0,
             "ticks": ""
            },
            "colorscale": [
             [
              0,
              "#0d0887"
             ],
             [
              0.1111111111111111,
              "#46039f"
             ],
             [
              0.2222222222222222,
              "#7201a8"
             ],
             [
              0.3333333333333333,
              "#9c179e"
             ],
             [
              0.4444444444444444,
              "#bd3786"
             ],
             [
              0.5555555555555556,
              "#d8576b"
             ],
             [
              0.6666666666666666,
              "#ed7953"
             ],
             [
              0.7777777777777778,
              "#fb9f3a"
             ],
             [
              0.8888888888888888,
              "#fdca26"
             ],
             [
              1,
              "#f0f921"
             ]
            ],
            "type": "surface"
           }
          ],
          "table": [
           {
            "cells": {
             "fill": {
              "color": "#EBF0F8"
             },
             "line": {
              "color": "white"
             }
            },
            "header": {
             "fill": {
              "color": "#C8D4E3"
             },
             "line": {
              "color": "white"
             }
            },
            "type": "table"
           }
          ]
         },
         "layout": {
          "annotationdefaults": {
           "arrowcolor": "#2a3f5f",
           "arrowhead": 0,
           "arrowwidth": 1
          },
          "autotypenumbers": "strict",
          "coloraxis": {
           "colorbar": {
            "outlinewidth": 0,
            "ticks": ""
           }
          },
          "colorscale": {
           "diverging": [
            [
             0,
             "#8e0152"
            ],
            [
             0.1,
             "#c51b7d"
            ],
            [
             0.2,
             "#de77ae"
            ],
            [
             0.3,
             "#f1b6da"
            ],
            [
             0.4,
             "#fde0ef"
            ],
            [
             0.5,
             "#f7f7f7"
            ],
            [
             0.6,
             "#e6f5d0"
            ],
            [
             0.7,
             "#b8e186"
            ],
            [
             0.8,
             "#7fbc41"
            ],
            [
             0.9,
             "#4d9221"
            ],
            [
             1,
             "#276419"
            ]
           ],
           "sequential": [
            [
             0,
             "#0d0887"
            ],
            [
             0.1111111111111111,
             "#46039f"
            ],
            [
             0.2222222222222222,
             "#7201a8"
            ],
            [
             0.3333333333333333,
             "#9c179e"
            ],
            [
             0.4444444444444444,
             "#bd3786"
            ],
            [
             0.5555555555555556,
             "#d8576b"
            ],
            [
             0.6666666666666666,
             "#ed7953"
            ],
            [
             0.7777777777777778,
             "#fb9f3a"
            ],
            [
             0.8888888888888888,
             "#fdca26"
            ],
            [
             1,
             "#f0f921"
            ]
           ],
           "sequentialminus": [
            [
             0,
             "#0d0887"
            ],
            [
             0.1111111111111111,
             "#46039f"
            ],
            [
             0.2222222222222222,
             "#7201a8"
            ],
            [
             0.3333333333333333,
             "#9c179e"
            ],
            [
             0.4444444444444444,
             "#bd3786"
            ],
            [
             0.5555555555555556,
             "#d8576b"
            ],
            [
             0.6666666666666666,
             "#ed7953"
            ],
            [
             0.7777777777777778,
             "#fb9f3a"
            ],
            [
             0.8888888888888888,
             "#fdca26"
            ],
            [
             1,
             "#f0f921"
            ]
           ]
          },
          "colorway": [
           "#636efa",
           "#EF553B",
           "#00cc96",
           "#ab63fa",
           "#FFA15A",
           "#19d3f3",
           "#FF6692",
           "#B6E880",
           "#FF97FF",
           "#FECB52"
          ],
          "font": {
           "color": "#2a3f5f"
          },
          "geo": {
           "bgcolor": "white",
           "lakecolor": "white",
           "landcolor": "#E5ECF6",
           "showlakes": true,
           "showland": true,
           "subunitcolor": "white"
          },
          "hoverlabel": {
           "align": "left"
          },
          "hovermode": "closest",
          "mapbox": {
           "style": "light"
          },
          "paper_bgcolor": "white",
          "plot_bgcolor": "#E5ECF6",
          "polar": {
           "angularaxis": {
            "gridcolor": "white",
            "linecolor": "white",
            "ticks": ""
           },
           "bgcolor": "#E5ECF6",
           "radialaxis": {
            "gridcolor": "white",
            "linecolor": "white",
            "ticks": ""
           }
          },
          "scene": {
           "xaxis": {
            "backgroundcolor": "#E5ECF6",
            "gridcolor": "white",
            "gridwidth": 2,
            "linecolor": "white",
            "showbackground": true,
            "ticks": "",
            "zerolinecolor": "white"
           },
           "yaxis": {
            "backgroundcolor": "#E5ECF6",
            "gridcolor": "white",
            "gridwidth": 2,
            "linecolor": "white",
            "showbackground": true,
            "ticks": "",
            "zerolinecolor": "white"
           },
           "zaxis": {
            "backgroundcolor": "#E5ECF6",
            "gridcolor": "white",
            "gridwidth": 2,
            "linecolor": "white",
            "showbackground": true,
            "ticks": "",
            "zerolinecolor": "white"
           }
          },
          "shapedefaults": {
           "line": {
            "color": "#2a3f5f"
           }
          },
          "ternary": {
           "aaxis": {
            "gridcolor": "white",
            "linecolor": "white",
            "ticks": ""
           },
           "baxis": {
            "gridcolor": "white",
            "linecolor": "white",
            "ticks": ""
           },
           "bgcolor": "#E5ECF6",
           "caxis": {
            "gridcolor": "white",
            "linecolor": "white",
            "ticks": ""
           }
          },
          "title": {
           "x": 0.05
          },
          "xaxis": {
           "automargin": true,
           "gridcolor": "white",
           "linecolor": "white",
           "ticks": "",
           "title": {
            "standoff": 15
           },
           "zerolinecolor": "white",
           "zerolinewidth": 2
          },
          "yaxis": {
           "automargin": true,
           "gridcolor": "white",
           "linecolor": "white",
           "ticks": "",
           "title": {
            "standoff": 15
           },
           "zerolinecolor": "white",
           "zerolinewidth": 2
          }
         }
        }
       }
      },
      "text/html": [
       "<div>                            <div id=\"a2b2329c-4139-40bf-a9e5-bed308c9416c\" class=\"plotly-graph-div\" style=\"height:525px; width:100%;\"></div>            <script type=\"text/javascript\">                require([\"plotly\"], function(Plotly) {                    window.PLOTLYENV=window.PLOTLYENV || {};                                    if (document.getElementById(\"a2b2329c-4139-40bf-a9e5-bed308c9416c\")) {                    Plotly.newPlot(                        \"a2b2329c-4139-40bf-a9e5-bed308c9416c\",                        [{\"contours\":{\"coloring\":\"heatmap\"},\"type\":\"histogram2dcontour\",\"x\":[-2.5244823311306286,-2.3968894015363036,-2.2692964719419786,-2.1417035423476536,-2.0141106127533286,-2.0141106127533286,-2.0141106127533286,-1.8865176831590038,-1.758924753564679,-1.758924753564679,-1.758924753564679,-1.631331823970354,-1.631331823970354,-1.631331823970354,-1.631331823970354,-1.503738894376029,-1.503738894376029,-1.503738894376029,-1.503738894376029,-1.376145964781704,-1.376145964781704,-1.376145964781704,-1.376145964781704,-1.376145964781704,-1.376145964781704,-1.376145964781704,-1.2485530351873793,-1.2485530351873793,-1.1209601055930543,-1.1209601055930543,-1.1209601055930543,-1.1209601055930543,-1.1209601055930543,-1.1209601055930543,-1.1209601055930543,-1.1209601055930543,-0.9933671759987293,-0.9933671759987293,-0.9933671759987293,-0.9933671759987293,-0.8657742464044044,-0.8657742464044044,-0.8657742464044044,-0.8657742464044044,-0.8657742464044044,-0.8657742464044044,-0.8657742464044044,-0.7381813168100794,-0.7381813168100794,-0.7381813168100794,-0.7381813168100794,-0.7381813168100794,-0.7381813168100794,-0.7381813168100794,-0.6105883872157545,-0.6105883872157545,-0.6105883872157545,-0.6105883872157545,-0.6105883872157545,-0.6105883872157545,-0.6105883872157545,-0.4829954576214295,-0.4829954576214295,-0.4829954576214295,-0.4829954576214295,-0.35540252802710454,-0.35540252802710454,-0.35540252802710454,-0.35540252802710454,-0.35540252802710454,-0.22780959843277962,-0.22780959843277962,-0.22780959843277962,-0.22780959843277962,-0.22780959843277962,-0.22780959843277962,-0.10021666883845468,-0.10021666883845468,-0.10021666883845468,-0.10021666883845468,0.02737626075587026,0.02737626075587026,0.02737626075587026,0.02737626075587026,0.02737626075587026,0.02737626075587026,0.02737626075587026,0.02737626075587026,0.1549691903501952,0.1549691903501952,0.1549691903501952,0.1549691903501952,0.28256211994452013,0.28256211994452013,0.28256211994452013,0.28256211994452013,0.28256211994452013,0.28256211994452013,0.28256211994452013,0.4101550495388451,0.4101550495388451,0.4101550495388451,0.4101550495388451,0.4101550495388451,0.4101550495388451,0.4101550495388451,0.5377479791331701,0.5377479791331701,0.5377479791331701,0.5377479791331701,0.5377479791331701,0.5377479791331701,0.5377479791331701,0.665340908727495,0.665340908727495,0.665340908727495,0.665340908727495,0.665340908727495,0.665340908727495,0.665340908727495,0.79293383832182,0.79293383832182,0.79293383832182,0.79293383832182,0.79293383832182,0.79293383832182,0.79293383832182,0.79293383832182,0.79293383832182,0.79293383832182,0.79293383832182,0.79293383832182,0.79293383832182,0.79293383832182,0.9205267679161449,0.9205267679161449,0.9205267679161449,0.9205267679161449,0.9205267679161449,0.9205267679161449,0.9205267679161449,0.9205267679161449,0.9205267679161449,0.9205267679161449,1.0481196975104698,1.0481196975104698,1.0481196975104698,1.1757126271047948,1.1757126271047948,1.1757126271047948,1.3033055566991196,1.3033055566991196,1.3033055566991196,1.3033055566991196,1.4308984862934446,1.4308984862934446,1.4308984862934446,1.4308984862934446,1.5584914158877696,1.6860843454820944,1.6860843454820944,1.8136772750764194,1.8136772750764194,-2.1417035423476536,-1.8865176831590038,-1.758924753564679,-1.631331823970354,-1.503738894376029,-1.376145964781704,-1.2485530351873793,-1.2485530351873793,-1.2485530351873793,-0.8657742464044044,-0.6105883872157545,-0.22780959843277962,-0.22780959843277962,-0.22780959843277962,-0.10021666883845468,-0.10021666883845468,0.02737626075587026,0.02737626075587026,0.02737626075587026,0.1549691903501952,0.1549691903501952,0.1549691903501952,0.28256211994452013,0.28256211994452013,0.4101550495388451,0.5377479791331701,0.79293383832182,0.79293383832182,0.9205267679161449,1.1757126271047948,1.3033055566991196,1.4308984862934446,1.5584914158877696,1.9412702046707444,2.196456063859394,-2.0141106127533286,-1.1209601055930543,-0.9933671759987293,-0.6105883872157545,-0.35540252802710454,-0.22780959843277962,-0.22780959843277962,0.02737626075587026,0.02737626075587026,0.02737626075587026,0.02737626075587026,0.28256211994452013,0.5377479791331701,0.665340908727495,0.79293383832182,0.79293383832182,0.79293383832182,0.79293383832182,0.9205267679161449,1.0481196975104698,1.1757126271047948,1.3033055566991196,1.3033055566991196,-0.8657742464044044,-0.6105883872157545,-0.4829954576214295,-0.4829954576214295,-0.22780959843277962,-0.10021666883845468,0.02737626075587026,0.1549691903501952,0.1549691903501952,0.5377479791331701,0.5377479791331701,0.5377479791331701,0.5377479791331701,0.665340908727495,0.665340908727495,0.79293383832182,0.9205267679161449,0.9205267679161449,0.9205267679161449,1.0481196975104698,1.0481196975104698,1.0481196975104698,1.3033055566991196,1.4308984862934446,2.196456063859394,-0.8657742464044044,-0.6105883872157545,-0.4829954576214295,-0.10021666883845468,-0.10021666883845468,0.1549691903501952,0.1549691903501952,0.28256211994452013,0.28256211994452013,0.5377479791331701,0.5377479791331701,0.79293383832182,1.0481196975104698,1.3033055566991196,2.196456063859394],\"y\":[\"false\",\"false\",\"false\",\"false\",\"false\",\"false\",\"false\",\"false\",\"false\",\"false\",\"false\",\"false\",\"false\",\"false\",\"false\",\"false\",\"false\",\"false\",\"false\",\"false\",\"false\",\"false\",\"false\",\"false\",\"false\",\"false\",\"false\",\"false\",\"false\",\"false\",\"false\",\"false\",\"false\",\"false\",\"false\",\"false\",\"false\",\"false\",\"false\",\"false\",\"false\",\"false\",\"false\",\"false\",\"false\",\"false\",\"false\",\"false\",\"false\",\"false\",\"false\",\"false\",\"false\",\"false\",\"false\",\"false\",\"false\",\"false\",\"false\",\"false\",\"false\",\"false\",\"false\",\"false\",\"false\",\"false\",\"false\",\"false\",\"false\",\"false\",\"false\",\"false\",\"false\",\"false\",\"false\",\"false\",\"false\",\"false\",\"false\",\"false\",\"false\",\"false\",\"false\",\"false\",\"false\",\"false\",\"false\",\"false\",\"false\",\"false\",\"false\",\"false\",\"false\",\"false\",\"false\",\"false\",\"false\",\"false\",\"false\",\"false\",\"false\",\"false\",\"false\",\"false\",\"false\",\"false\",\"false\",\"false\",\"false\",\"false\",\"false\",\"false\",\"false\",\"false\",\"false\",\"false\",\"false\",\"false\",\"false\",\"false\",\"false\",\"false\",\"false\",\"false\",\"false\",\"false\",\"false\",\"false\",\"false\",\"false\",\"false\",\"false\",\"false\",\"false\",\"false\",\"false\",\"false\",\"false\",\"false\",\"false\",\"false\",\"false\",\"false\",\"false\",\"false\",\"false\",\"false\",\"false\",\"false\",\"false\",\"false\",\"false\",\"false\",\"false\",\"false\",\"false\",\"false\",\"false\",\"false\",\"false\",\"false\",\"false\",\"false\",\"false\",\"false\",\"false\",\"false\",\"false\",\"false\",\"false\",\"false\",\"false\",\"false\",\"false\",\"false\",\"false\",\"false\",\"false\",\"false\",\"false\",\"false\",\"false\",\"false\",\"false\",\"false\",\"false\",\"false\",\"false\",\"false\",\"false\",\"false\",\"false\",\"false\",\"false\",\"false\",\"false\",\"false\",\"false\",\"false\",\"false\",\"false\",\"false\",\"false\",\"false\",\"false\",\"false\",\"false\",\"false\",\"false\",\"false\",\"false\",\"false\",\"false\",\"false\",\"false\",\"false\",\"false\",\"false\",\"false\",\"false\",\"false\",\"false\",\"false\",\"false\",\"false\",\"false\",\"false\",\"false\",\"false\",\"false\",\"false\",\"false\",\"false\",\"false\",\"false\",\"false\",\"false\",\"false\",\"false\",\"false\",\"false\",\"false\",\"false\",\"false\",\"false\",\"false\",\"false\",\"false\",\"false\",\"false\",\"false\",\"false\",\"false\",\"false\",\"false\",\"false\",\"false\",\"false\",\"false\",\"false\",\"false\"]},{\"mode\":\"markers\",\"type\":\"scatter\",\"x\":[-2.5244823311306286,-2.3968894015363036,-2.2692964719419786,-2.1417035423476536,-2.0141106127533286,-2.0141106127533286,-2.0141106127533286,-1.8865176831590038,-1.758924753564679,-1.758924753564679,-1.758924753564679,-1.631331823970354,-1.631331823970354,-1.631331823970354,-1.631331823970354,-1.503738894376029,-1.503738894376029,-1.503738894376029,-1.503738894376029,-1.376145964781704,-1.376145964781704,-1.376145964781704,-1.376145964781704,-1.376145964781704,-1.376145964781704,-1.376145964781704,-1.2485530351873793,-1.2485530351873793,-1.1209601055930543,-1.1209601055930543,-1.1209601055930543,-1.1209601055930543,-1.1209601055930543,-1.1209601055930543,-1.1209601055930543,-1.1209601055930543,-0.9933671759987293,-0.9933671759987293,-0.9933671759987293,-0.9933671759987293,-0.8657742464044044,-0.8657742464044044,-0.8657742464044044,-0.8657742464044044,-0.8657742464044044,-0.8657742464044044,-0.8657742464044044,-0.7381813168100794,-0.7381813168100794,-0.7381813168100794,-0.7381813168100794,-0.7381813168100794,-0.7381813168100794,-0.7381813168100794,-0.6105883872157545,-0.6105883872157545,-0.6105883872157545,-0.6105883872157545,-0.6105883872157545,-0.6105883872157545,-0.6105883872157545,-0.4829954576214295,-0.4829954576214295,-0.4829954576214295,-0.4829954576214295,-0.35540252802710454,-0.35540252802710454,-0.35540252802710454,-0.35540252802710454,-0.35540252802710454,-0.22780959843277962,-0.22780959843277962,-0.22780959843277962,-0.22780959843277962,-0.22780959843277962,-0.22780959843277962,-0.10021666883845468,-0.10021666883845468,-0.10021666883845468,-0.10021666883845468,0.02737626075587026,0.02737626075587026,0.02737626075587026,0.02737626075587026,0.02737626075587026,0.02737626075587026,0.02737626075587026,0.02737626075587026,0.1549691903501952,0.1549691903501952,0.1549691903501952,0.1549691903501952,0.28256211994452013,0.28256211994452013,0.28256211994452013,0.28256211994452013,0.28256211994452013,0.28256211994452013,0.28256211994452013,0.4101550495388451,0.4101550495388451,0.4101550495388451,0.4101550495388451,0.4101550495388451,0.4101550495388451,0.4101550495388451,0.5377479791331701,0.5377479791331701,0.5377479791331701,0.5377479791331701,0.5377479791331701,0.5377479791331701,0.5377479791331701,0.665340908727495,0.665340908727495,0.665340908727495,0.665340908727495,0.665340908727495,0.665340908727495,0.665340908727495,0.79293383832182,0.79293383832182,0.79293383832182,0.79293383832182,0.79293383832182,0.79293383832182,0.79293383832182,0.79293383832182,0.79293383832182,0.79293383832182,0.79293383832182,0.79293383832182,0.79293383832182,0.79293383832182,0.9205267679161449,0.9205267679161449,0.9205267679161449,0.9205267679161449,0.9205267679161449,0.9205267679161449,0.9205267679161449,0.9205267679161449,0.9205267679161449,0.9205267679161449,1.0481196975104698,1.0481196975104698,1.0481196975104698,1.1757126271047948,1.1757126271047948,1.1757126271047948,1.3033055566991196,1.3033055566991196,1.3033055566991196,1.3033055566991196,1.4308984862934446,1.4308984862934446,1.4308984862934446,1.4308984862934446,1.5584914158877696,1.6860843454820944,1.6860843454820944,1.8136772750764194,1.8136772750764194,-2.1417035423476536,-1.8865176831590038,-1.758924753564679,-1.631331823970354,-1.503738894376029,-1.376145964781704,-1.2485530351873793,-1.2485530351873793,-1.2485530351873793,-0.8657742464044044,-0.6105883872157545,-0.22780959843277962,-0.22780959843277962,-0.22780959843277962,-0.10021666883845468,-0.10021666883845468,0.02737626075587026,0.02737626075587026,0.02737626075587026,0.1549691903501952,0.1549691903501952,0.1549691903501952,0.28256211994452013,0.28256211994452013,0.4101550495388451,0.5377479791331701,0.79293383832182,0.79293383832182,0.9205267679161449,1.1757126271047948,1.3033055566991196,1.4308984862934446,1.5584914158877696,1.9412702046707444,2.196456063859394,-2.0141106127533286,-1.1209601055930543,-0.9933671759987293,-0.6105883872157545,-0.35540252802710454,-0.22780959843277962,-0.22780959843277962,0.02737626075587026,0.02737626075587026,0.02737626075587026,0.02737626075587026,0.28256211994452013,0.5377479791331701,0.665340908727495,0.79293383832182,0.79293383832182,0.79293383832182,0.79293383832182,0.9205267679161449,1.0481196975104698,1.1757126271047948,1.3033055566991196,1.3033055566991196,-0.8657742464044044,-0.6105883872157545,-0.4829954576214295,-0.4829954576214295,-0.22780959843277962,-0.10021666883845468,0.02737626075587026,0.1549691903501952,0.1549691903501952,0.5377479791331701,0.5377479791331701,0.5377479791331701,0.5377479791331701,0.665340908727495,0.665340908727495,0.79293383832182,0.9205267679161449,0.9205267679161449,0.9205267679161449,1.0481196975104698,1.0481196975104698,1.0481196975104698,1.3033055566991196,1.4308984862934446,2.196456063859394,-0.8657742464044044,-0.6105883872157545,-0.4829954576214295,-0.10021666883845468,-0.10021666883845468,0.1549691903501952,0.1549691903501952,0.28256211994452013,0.28256211994452013,0.5377479791331701,0.5377479791331701,0.79293383832182,1.0481196975104698,1.3033055566991196,2.196456063859394],\"y\":[\"false\",\"false\",\"false\",\"false\",\"false\",\"false\",\"false\",\"false\",\"false\",\"false\",\"false\",\"false\",\"false\",\"false\",\"false\",\"false\",\"false\",\"false\",\"false\",\"false\",\"false\",\"false\",\"false\",\"false\",\"false\",\"false\",\"false\",\"false\",\"false\",\"false\",\"false\",\"false\",\"false\",\"false\",\"false\",\"false\",\"false\",\"false\",\"false\",\"false\",\"false\",\"false\",\"false\",\"false\",\"false\",\"false\",\"false\",\"false\",\"false\",\"false\",\"false\",\"false\",\"false\",\"false\",\"false\",\"false\",\"false\",\"false\",\"false\",\"false\",\"false\",\"false\",\"false\",\"false\",\"false\",\"false\",\"false\",\"false\",\"false\",\"false\",\"false\",\"false\",\"false\",\"false\",\"false\",\"false\",\"false\",\"false\",\"false\",\"false\",\"false\",\"false\",\"false\",\"false\",\"false\",\"false\",\"false\",\"false\",\"false\",\"false\",\"false\",\"false\",\"false\",\"false\",\"false\",\"false\",\"false\",\"false\",\"false\",\"false\",\"false\",\"false\",\"false\",\"false\",\"false\",\"false\",\"false\",\"false\",\"false\",\"false\",\"false\",\"false\",\"false\",\"false\",\"false\",\"false\",\"false\",\"false\",\"false\",\"false\",\"false\",\"false\",\"false\",\"false\",\"false\",\"false\",\"false\",\"false\",\"false\",\"false\",\"false\",\"false\",\"false\",\"false\",\"false\",\"false\",\"false\",\"false\",\"false\",\"false\",\"false\",\"false\",\"false\",\"false\",\"false\",\"false\",\"false\",\"false\",\"false\",\"false\",\"false\",\"false\",\"false\",\"false\",\"false\",\"false\",\"false\",\"false\",\"false\",\"false\",\"false\",\"false\",\"false\",\"false\",\"false\",\"false\",\"false\",\"false\",\"false\",\"false\",\"false\",\"false\",\"false\",\"false\",\"false\",\"false\",\"false\",\"false\",\"false\",\"false\",\"false\",\"false\",\"false\",\"false\",\"false\",\"false\",\"false\",\"false\",\"false\",\"false\",\"false\",\"false\",\"false\",\"false\",\"false\",\"false\",\"false\",\"false\",\"false\",\"false\",\"false\",\"false\",\"false\",\"false\",\"false\",\"false\",\"false\",\"false\",\"false\",\"false\",\"false\",\"false\",\"false\",\"false\",\"false\",\"false\",\"false\",\"false\",\"false\",\"false\",\"false\",\"false\",\"false\",\"false\",\"false\",\"false\",\"false\",\"false\",\"false\",\"false\",\"false\",\"false\",\"false\",\"false\",\"false\",\"false\",\"false\",\"false\",\"false\",\"false\",\"false\",\"false\",\"false\",\"false\",\"false\",\"false\",\"false\",\"false\",\"false\",\"false\",\"false\",\"false\",\"false\",\"false\",\"false\",\"false\",\"false\",\"false\",\"false\",\"false\",\"false\"]}],                        {\"template\":{\"data\":{\"bar\":[{\"error_x\":{\"color\":\"#2a3f5f\"},\"error_y\":{\"color\":\"#2a3f5f\"},\"marker\":{\"line\":{\"color\":\"#E5ECF6\",\"width\":0.5},\"pattern\":{\"fillmode\":\"overlay\",\"size\":10,\"solidity\":0.2}},\"type\":\"bar\"}],\"barpolar\":[{\"marker\":{\"line\":{\"color\":\"#E5ECF6\",\"width\":0.5},\"pattern\":{\"fillmode\":\"overlay\",\"size\":10,\"solidity\":0.2}},\"type\":\"barpolar\"}],\"carpet\":[{\"aaxis\":{\"endlinecolor\":\"#2a3f5f\",\"gridcolor\":\"white\",\"linecolor\":\"white\",\"minorgridcolor\":\"white\",\"startlinecolor\":\"#2a3f5f\"},\"baxis\":{\"endlinecolor\":\"#2a3f5f\",\"gridcolor\":\"white\",\"linecolor\":\"white\",\"minorgridcolor\":\"white\",\"startlinecolor\":\"#2a3f5f\"},\"type\":\"carpet\"}],\"choropleth\":[{\"colorbar\":{\"outlinewidth\":0,\"ticks\":\"\"},\"type\":\"choropleth\"}],\"contour\":[{\"colorbar\":{\"outlinewidth\":0,\"ticks\":\"\"},\"colorscale\":[[0.0,\"#0d0887\"],[0.1111111111111111,\"#46039f\"],[0.2222222222222222,\"#7201a8\"],[0.3333333333333333,\"#9c179e\"],[0.4444444444444444,\"#bd3786\"],[0.5555555555555556,\"#d8576b\"],[0.6666666666666666,\"#ed7953\"],[0.7777777777777778,\"#fb9f3a\"],[0.8888888888888888,\"#fdca26\"],[1.0,\"#f0f921\"]],\"type\":\"contour\"}],\"contourcarpet\":[{\"colorbar\":{\"outlinewidth\":0,\"ticks\":\"\"},\"type\":\"contourcarpet\"}],\"heatmap\":[{\"colorbar\":{\"outlinewidth\":0,\"ticks\":\"\"},\"colorscale\":[[0.0,\"#0d0887\"],[0.1111111111111111,\"#46039f\"],[0.2222222222222222,\"#7201a8\"],[0.3333333333333333,\"#9c179e\"],[0.4444444444444444,\"#bd3786\"],[0.5555555555555556,\"#d8576b\"],[0.6666666666666666,\"#ed7953\"],[0.7777777777777778,\"#fb9f3a\"],[0.8888888888888888,\"#fdca26\"],[1.0,\"#f0f921\"]],\"type\":\"heatmap\"}],\"heatmapgl\":[{\"colorbar\":{\"outlinewidth\":0,\"ticks\":\"\"},\"colorscale\":[[0.0,\"#0d0887\"],[0.1111111111111111,\"#46039f\"],[0.2222222222222222,\"#7201a8\"],[0.3333333333333333,\"#9c179e\"],[0.4444444444444444,\"#bd3786\"],[0.5555555555555556,\"#d8576b\"],[0.6666666666666666,\"#ed7953\"],[0.7777777777777778,\"#fb9f3a\"],[0.8888888888888888,\"#fdca26\"],[1.0,\"#f0f921\"]],\"type\":\"heatmapgl\"}],\"histogram\":[{\"marker\":{\"pattern\":{\"fillmode\":\"overlay\",\"size\":10,\"solidity\":0.2}},\"type\":\"histogram\"}],\"histogram2d\":[{\"colorbar\":{\"outlinewidth\":0,\"ticks\":\"\"},\"colorscale\":[[0.0,\"#0d0887\"],[0.1111111111111111,\"#46039f\"],[0.2222222222222222,\"#7201a8\"],[0.3333333333333333,\"#9c179e\"],[0.4444444444444444,\"#bd3786\"],[0.5555555555555556,\"#d8576b\"],[0.6666666666666666,\"#ed7953\"],[0.7777777777777778,\"#fb9f3a\"],[0.8888888888888888,\"#fdca26\"],[1.0,\"#f0f921\"]],\"type\":\"histogram2d\"}],\"histogram2dcontour\":[{\"colorbar\":{\"outlinewidth\":0,\"ticks\":\"\"},\"colorscale\":[[0.0,\"#0d0887\"],[0.1111111111111111,\"#46039f\"],[0.2222222222222222,\"#7201a8\"],[0.3333333333333333,\"#9c179e\"],[0.4444444444444444,\"#bd3786\"],[0.5555555555555556,\"#d8576b\"],[0.6666666666666666,\"#ed7953\"],[0.7777777777777778,\"#fb9f3a\"],[0.8888888888888888,\"#fdca26\"],[1.0,\"#f0f921\"]],\"type\":\"histogram2dcontour\"}],\"mesh3d\":[{\"colorbar\":{\"outlinewidth\":0,\"ticks\":\"\"},\"type\":\"mesh3d\"}],\"parcoords\":[{\"line\":{\"colorbar\":{\"outlinewidth\":0,\"ticks\":\"\"}},\"type\":\"parcoords\"}],\"pie\":[{\"automargin\":true,\"type\":\"pie\"}],\"scatter\":[{\"marker\":{\"colorbar\":{\"outlinewidth\":0,\"ticks\":\"\"}},\"type\":\"scatter\"}],\"scatter3d\":[{\"line\":{\"colorbar\":{\"outlinewidth\":0,\"ticks\":\"\"}},\"marker\":{\"colorbar\":{\"outlinewidth\":0,\"ticks\":\"\"}},\"type\":\"scatter3d\"}],\"scattercarpet\":[{\"marker\":{\"colorbar\":{\"outlinewidth\":0,\"ticks\":\"\"}},\"type\":\"scattercarpet\"}],\"scattergeo\":[{\"marker\":{\"colorbar\":{\"outlinewidth\":0,\"ticks\":\"\"}},\"type\":\"scattergeo\"}],\"scattergl\":[{\"marker\":{\"colorbar\":{\"outlinewidth\":0,\"ticks\":\"\"}},\"type\":\"scattergl\"}],\"scattermapbox\":[{\"marker\":{\"colorbar\":{\"outlinewidth\":0,\"ticks\":\"\"}},\"type\":\"scattermapbox\"}],\"scatterpolar\":[{\"marker\":{\"colorbar\":{\"outlinewidth\":0,\"ticks\":\"\"}},\"type\":\"scatterpolar\"}],\"scatterpolargl\":[{\"marker\":{\"colorbar\":{\"outlinewidth\":0,\"ticks\":\"\"}},\"type\":\"scatterpolargl\"}],\"scatterternary\":[{\"marker\":{\"colorbar\":{\"outlinewidth\":0,\"ticks\":\"\"}},\"type\":\"scatterternary\"}],\"surface\":[{\"colorbar\":{\"outlinewidth\":0,\"ticks\":\"\"},\"colorscale\":[[0.0,\"#0d0887\"],[0.1111111111111111,\"#46039f\"],[0.2222222222222222,\"#7201a8\"],[0.3333333333333333,\"#9c179e\"],[0.4444444444444444,\"#bd3786\"],[0.5555555555555556,\"#d8576b\"],[0.6666666666666666,\"#ed7953\"],[0.7777777777777778,\"#fb9f3a\"],[0.8888888888888888,\"#fdca26\"],[1.0,\"#f0f921\"]],\"type\":\"surface\"}],\"table\":[{\"cells\":{\"fill\":{\"color\":\"#EBF0F8\"},\"line\":{\"color\":\"white\"}},\"header\":{\"fill\":{\"color\":\"#C8D4E3\"},\"line\":{\"color\":\"white\"}},\"type\":\"table\"}]},\"layout\":{\"annotationdefaults\":{\"arrowcolor\":\"#2a3f5f\",\"arrowhead\":0,\"arrowwidth\":1},\"autotypenumbers\":\"strict\",\"coloraxis\":{\"colorbar\":{\"outlinewidth\":0,\"ticks\":\"\"}},\"colorscale\":{\"diverging\":[[0,\"#8e0152\"],[0.1,\"#c51b7d\"],[0.2,\"#de77ae\"],[0.3,\"#f1b6da\"],[0.4,\"#fde0ef\"],[0.5,\"#f7f7f7\"],[0.6,\"#e6f5d0\"],[0.7,\"#b8e186\"],[0.8,\"#7fbc41\"],[0.9,\"#4d9221\"],[1,\"#276419\"]],\"sequential\":[[0.0,\"#0d0887\"],[0.1111111111111111,\"#46039f\"],[0.2222222222222222,\"#7201a8\"],[0.3333333333333333,\"#9c179e\"],[0.4444444444444444,\"#bd3786\"],[0.5555555555555556,\"#d8576b\"],[0.6666666666666666,\"#ed7953\"],[0.7777777777777778,\"#fb9f3a\"],[0.8888888888888888,\"#fdca26\"],[1.0,\"#f0f921\"]],\"sequentialminus\":[[0.0,\"#0d0887\"],[0.1111111111111111,\"#46039f\"],[0.2222222222222222,\"#7201a8\"],[0.3333333333333333,\"#9c179e\"],[0.4444444444444444,\"#bd3786\"],[0.5555555555555556,\"#d8576b\"],[0.6666666666666666,\"#ed7953\"],[0.7777777777777778,\"#fb9f3a\"],[0.8888888888888888,\"#fdca26\"],[1.0,\"#f0f921\"]]},\"colorway\":[\"#636efa\",\"#EF553B\",\"#00cc96\",\"#ab63fa\",\"#FFA15A\",\"#19d3f3\",\"#FF6692\",\"#B6E880\",\"#FF97FF\",\"#FECB52\"],\"font\":{\"color\":\"#2a3f5f\"},\"geo\":{\"bgcolor\":\"white\",\"lakecolor\":\"white\",\"landcolor\":\"#E5ECF6\",\"showlakes\":true,\"showland\":true,\"subunitcolor\":\"white\"},\"hoverlabel\":{\"align\":\"left\"},\"hovermode\":\"closest\",\"mapbox\":{\"style\":\"light\"},\"paper_bgcolor\":\"white\",\"plot_bgcolor\":\"#E5ECF6\",\"polar\":{\"angularaxis\":{\"gridcolor\":\"white\",\"linecolor\":\"white\",\"ticks\":\"\"},\"bgcolor\":\"#E5ECF6\",\"radialaxis\":{\"gridcolor\":\"white\",\"linecolor\":\"white\",\"ticks\":\"\"}},\"scene\":{\"xaxis\":{\"backgroundcolor\":\"#E5ECF6\",\"gridcolor\":\"white\",\"gridwidth\":2,\"linecolor\":\"white\",\"showbackground\":true,\"ticks\":\"\",\"zerolinecolor\":\"white\"},\"yaxis\":{\"backgroundcolor\":\"#E5ECF6\",\"gridcolor\":\"white\",\"gridwidth\":2,\"linecolor\":\"white\",\"showbackground\":true,\"ticks\":\"\",\"zerolinecolor\":\"white\"},\"zaxis\":{\"backgroundcolor\":\"#E5ECF6\",\"gridcolor\":\"white\",\"gridwidth\":2,\"linecolor\":\"white\",\"showbackground\":true,\"ticks\":\"\",\"zerolinecolor\":\"white\"}},\"shapedefaults\":{\"line\":{\"color\":\"#2a3f5f\"}},\"ternary\":{\"aaxis\":{\"gridcolor\":\"white\",\"linecolor\":\"white\",\"ticks\":\"\"},\"baxis\":{\"gridcolor\":\"white\",\"linecolor\":\"white\",\"ticks\":\"\"},\"bgcolor\":\"#E5ECF6\",\"caxis\":{\"gridcolor\":\"white\",\"linecolor\":\"white\",\"ticks\":\"\"}},\"title\":{\"x\":0.05},\"xaxis\":{\"automargin\":true,\"gridcolor\":\"white\",\"linecolor\":\"white\",\"ticks\":\"\",\"title\":{\"standoff\":15},\"zerolinecolor\":\"white\",\"zerolinewidth\":2},\"yaxis\":{\"automargin\":true,\"gridcolor\":\"white\",\"linecolor\":\"white\",\"ticks\":\"\",\"title\":{\"standoff\":15},\"zerolinecolor\":\"white\",\"zerolinewidth\":2}}}},                        {\"responsive\": true}                    ).then(function(){\n",
       "                            \n",
       "var gd = document.getElementById('a2b2329c-4139-40bf-a9e5-bed308c9416c');\n",
       "var x = new MutationObserver(function (mutations, observer) {{\n",
       "        var display = window.getComputedStyle(gd).display;\n",
       "        if (!display || display === 'none') {{\n",
       "            console.log([gd, 'removed!']);\n",
       "            Plotly.purge(gd);\n",
       "            observer.disconnect();\n",
       "        }}\n",
       "}});\n",
       "\n",
       "// Listen for the removal of the full notebook cells\n",
       "var notebookContainer = gd.closest('#notebook-container');\n",
       "if (notebookContainer) {{\n",
       "    x.observe(notebookContainer, {childList: true});\n",
       "}}\n",
       "\n",
       "// Listen for the clearing of the current output cell\n",
       "var outputEl = gd.closest('.output');\n",
       "if (outputEl) {{\n",
       "    x.observe(outputEl, {childList: true});\n",
       "}}\n",
       "\n",
       "                        })                };                });            </script>        </div>"
      ]
     },
     "metadata": {},
     "output_type": "display_data"
    }
   ],
   "source": [
    "iplot([go.Histogram2dContour(x=data.head(500)['age'], \n",
    "                             y=data.head(500)['fbs'], \n",
    "                             contours=go.Contours(coloring='heatmap')),\n",
    "       go.Scatter(x=data.head(1000)['age'], y=data.head(1000)['fbs'], mode='markers')])"
   ]
  },
  {
   "cell_type": "markdown",
   "id": "2f121215",
   "metadata": {},
   "source": [
    "3D plots using plotly"
   ]
  },
  {
   "cell_type": "code",
   "execution_count": 41,
   "id": "20947a5f",
   "metadata": {},
   "outputs": [],
   "source": [
    "data = data.assign(n=0).groupby(['fbs', 'age'])['n'].count().reset_index()\n",
    "data = data[data[\"age\"] < 100]\n",
    "v = data.pivot(index='age', columns='fbs', values='n').fillna(0).values.tolist()"
   ]
  },
  {
   "cell_type": "code",
   "execution_count": 42,
   "id": "78d71fad",
   "metadata": {},
   "outputs": [
    {
     "data": {
      "application/vnd.plotly.v1+json": {
       "config": {
        "linkText": "Export to plot.ly",
        "plotlyServerURL": "https://plot.ly",
        "showLink": false
       },
       "data": [
        {
         "type": "surface",
         "z": [
          [
           1
          ],
          [
           1
          ],
          [
           1
          ],
          [
           2
          ],
          [
           4
          ],
          [
           2
          ],
          [
           4
          ],
          [
           5
          ],
          [
           5
          ],
          [
           8
          ],
          [
           5
          ],
          [
           9
          ],
          [
           5
          ],
          [
           10
          ],
          [
           7
          ],
          [
           11
          ],
          [
           7
          ],
          [
           6
          ],
          [
           12
          ],
          [
           9
          ],
          [
           16
          ],
          [
           11
          ],
          [
           12
          ],
          [
           8
          ],
          [
           15
          ],
          [
           10
          ],
          [
           22
          ],
          [
           15
          ],
          [
           8
          ],
          [
           5
          ],
          [
           9
          ],
          [
           6
          ],
          [
           2
          ],
          [
           2
          ],
          [
           2
          ],
          [
           1
          ],
          [
           3
          ]
         ]
        }
       ],
       "layout": {
        "template": {
         "data": {
          "bar": [
           {
            "error_x": {
             "color": "#2a3f5f"
            },
            "error_y": {
             "color": "#2a3f5f"
            },
            "marker": {
             "line": {
              "color": "#E5ECF6",
              "width": 0.5
             },
             "pattern": {
              "fillmode": "overlay",
              "size": 10,
              "solidity": 0.2
             }
            },
            "type": "bar"
           }
          ],
          "barpolar": [
           {
            "marker": {
             "line": {
              "color": "#E5ECF6",
              "width": 0.5
             },
             "pattern": {
              "fillmode": "overlay",
              "size": 10,
              "solidity": 0.2
             }
            },
            "type": "barpolar"
           }
          ],
          "carpet": [
           {
            "aaxis": {
             "endlinecolor": "#2a3f5f",
             "gridcolor": "white",
             "linecolor": "white",
             "minorgridcolor": "white",
             "startlinecolor": "#2a3f5f"
            },
            "baxis": {
             "endlinecolor": "#2a3f5f",
             "gridcolor": "white",
             "linecolor": "white",
             "minorgridcolor": "white",
             "startlinecolor": "#2a3f5f"
            },
            "type": "carpet"
           }
          ],
          "choropleth": [
           {
            "colorbar": {
             "outlinewidth": 0,
             "ticks": ""
            },
            "type": "choropleth"
           }
          ],
          "contour": [
           {
            "colorbar": {
             "outlinewidth": 0,
             "ticks": ""
            },
            "colorscale": [
             [
              0,
              "#0d0887"
             ],
             [
              0.1111111111111111,
              "#46039f"
             ],
             [
              0.2222222222222222,
              "#7201a8"
             ],
             [
              0.3333333333333333,
              "#9c179e"
             ],
             [
              0.4444444444444444,
              "#bd3786"
             ],
             [
              0.5555555555555556,
              "#d8576b"
             ],
             [
              0.6666666666666666,
              "#ed7953"
             ],
             [
              0.7777777777777778,
              "#fb9f3a"
             ],
             [
              0.8888888888888888,
              "#fdca26"
             ],
             [
              1,
              "#f0f921"
             ]
            ],
            "type": "contour"
           }
          ],
          "contourcarpet": [
           {
            "colorbar": {
             "outlinewidth": 0,
             "ticks": ""
            },
            "type": "contourcarpet"
           }
          ],
          "heatmap": [
           {
            "colorbar": {
             "outlinewidth": 0,
             "ticks": ""
            },
            "colorscale": [
             [
              0,
              "#0d0887"
             ],
             [
              0.1111111111111111,
              "#46039f"
             ],
             [
              0.2222222222222222,
              "#7201a8"
             ],
             [
              0.3333333333333333,
              "#9c179e"
             ],
             [
              0.4444444444444444,
              "#bd3786"
             ],
             [
              0.5555555555555556,
              "#d8576b"
             ],
             [
              0.6666666666666666,
              "#ed7953"
             ],
             [
              0.7777777777777778,
              "#fb9f3a"
             ],
             [
              0.8888888888888888,
              "#fdca26"
             ],
             [
              1,
              "#f0f921"
             ]
            ],
            "type": "heatmap"
           }
          ],
          "heatmapgl": [
           {
            "colorbar": {
             "outlinewidth": 0,
             "ticks": ""
            },
            "colorscale": [
             [
              0,
              "#0d0887"
             ],
             [
              0.1111111111111111,
              "#46039f"
             ],
             [
              0.2222222222222222,
              "#7201a8"
             ],
             [
              0.3333333333333333,
              "#9c179e"
             ],
             [
              0.4444444444444444,
              "#bd3786"
             ],
             [
              0.5555555555555556,
              "#d8576b"
             ],
             [
              0.6666666666666666,
              "#ed7953"
             ],
             [
              0.7777777777777778,
              "#fb9f3a"
             ],
             [
              0.8888888888888888,
              "#fdca26"
             ],
             [
              1,
              "#f0f921"
             ]
            ],
            "type": "heatmapgl"
           }
          ],
          "histogram": [
           {
            "marker": {
             "pattern": {
              "fillmode": "overlay",
              "size": 10,
              "solidity": 0.2
             }
            },
            "type": "histogram"
           }
          ],
          "histogram2d": [
           {
            "colorbar": {
             "outlinewidth": 0,
             "ticks": ""
            },
            "colorscale": [
             [
              0,
              "#0d0887"
             ],
             [
              0.1111111111111111,
              "#46039f"
             ],
             [
              0.2222222222222222,
              "#7201a8"
             ],
             [
              0.3333333333333333,
              "#9c179e"
             ],
             [
              0.4444444444444444,
              "#bd3786"
             ],
             [
              0.5555555555555556,
              "#d8576b"
             ],
             [
              0.6666666666666666,
              "#ed7953"
             ],
             [
              0.7777777777777778,
              "#fb9f3a"
             ],
             [
              0.8888888888888888,
              "#fdca26"
             ],
             [
              1,
              "#f0f921"
             ]
            ],
            "type": "histogram2d"
           }
          ],
          "histogram2dcontour": [
           {
            "colorbar": {
             "outlinewidth": 0,
             "ticks": ""
            },
            "colorscale": [
             [
              0,
              "#0d0887"
             ],
             [
              0.1111111111111111,
              "#46039f"
             ],
             [
              0.2222222222222222,
              "#7201a8"
             ],
             [
              0.3333333333333333,
              "#9c179e"
             ],
             [
              0.4444444444444444,
              "#bd3786"
             ],
             [
              0.5555555555555556,
              "#d8576b"
             ],
             [
              0.6666666666666666,
              "#ed7953"
             ],
             [
              0.7777777777777778,
              "#fb9f3a"
             ],
             [
              0.8888888888888888,
              "#fdca26"
             ],
             [
              1,
              "#f0f921"
             ]
            ],
            "type": "histogram2dcontour"
           }
          ],
          "mesh3d": [
           {
            "colorbar": {
             "outlinewidth": 0,
             "ticks": ""
            },
            "type": "mesh3d"
           }
          ],
          "parcoords": [
           {
            "line": {
             "colorbar": {
              "outlinewidth": 0,
              "ticks": ""
             }
            },
            "type": "parcoords"
           }
          ],
          "pie": [
           {
            "automargin": true,
            "type": "pie"
           }
          ],
          "scatter": [
           {
            "marker": {
             "colorbar": {
              "outlinewidth": 0,
              "ticks": ""
             }
            },
            "type": "scatter"
           }
          ],
          "scatter3d": [
           {
            "line": {
             "colorbar": {
              "outlinewidth": 0,
              "ticks": ""
             }
            },
            "marker": {
             "colorbar": {
              "outlinewidth": 0,
              "ticks": ""
             }
            },
            "type": "scatter3d"
           }
          ],
          "scattercarpet": [
           {
            "marker": {
             "colorbar": {
              "outlinewidth": 0,
              "ticks": ""
             }
            },
            "type": "scattercarpet"
           }
          ],
          "scattergeo": [
           {
            "marker": {
             "colorbar": {
              "outlinewidth": 0,
              "ticks": ""
             }
            },
            "type": "scattergeo"
           }
          ],
          "scattergl": [
           {
            "marker": {
             "colorbar": {
              "outlinewidth": 0,
              "ticks": ""
             }
            },
            "type": "scattergl"
           }
          ],
          "scattermapbox": [
           {
            "marker": {
             "colorbar": {
              "outlinewidth": 0,
              "ticks": ""
             }
            },
            "type": "scattermapbox"
           }
          ],
          "scatterpolar": [
           {
            "marker": {
             "colorbar": {
              "outlinewidth": 0,
              "ticks": ""
             }
            },
            "type": "scatterpolar"
           }
          ],
          "scatterpolargl": [
           {
            "marker": {
             "colorbar": {
              "outlinewidth": 0,
              "ticks": ""
             }
            },
            "type": "scatterpolargl"
           }
          ],
          "scatterternary": [
           {
            "marker": {
             "colorbar": {
              "outlinewidth": 0,
              "ticks": ""
             }
            },
            "type": "scatterternary"
           }
          ],
          "surface": [
           {
            "colorbar": {
             "outlinewidth": 0,
             "ticks": ""
            },
            "colorscale": [
             [
              0,
              "#0d0887"
             ],
             [
              0.1111111111111111,
              "#46039f"
             ],
             [
              0.2222222222222222,
              "#7201a8"
             ],
             [
              0.3333333333333333,
              "#9c179e"
             ],
             [
              0.4444444444444444,
              "#bd3786"
             ],
             [
              0.5555555555555556,
              "#d8576b"
             ],
             [
              0.6666666666666666,
              "#ed7953"
             ],
             [
              0.7777777777777778,
              "#fb9f3a"
             ],
             [
              0.8888888888888888,
              "#fdca26"
             ],
             [
              1,
              "#f0f921"
             ]
            ],
            "type": "surface"
           }
          ],
          "table": [
           {
            "cells": {
             "fill": {
              "color": "#EBF0F8"
             },
             "line": {
              "color": "white"
             }
            },
            "header": {
             "fill": {
              "color": "#C8D4E3"
             },
             "line": {
              "color": "white"
             }
            },
            "type": "table"
           }
          ]
         },
         "layout": {
          "annotationdefaults": {
           "arrowcolor": "#2a3f5f",
           "arrowhead": 0,
           "arrowwidth": 1
          },
          "autotypenumbers": "strict",
          "coloraxis": {
           "colorbar": {
            "outlinewidth": 0,
            "ticks": ""
           }
          },
          "colorscale": {
           "diverging": [
            [
             0,
             "#8e0152"
            ],
            [
             0.1,
             "#c51b7d"
            ],
            [
             0.2,
             "#de77ae"
            ],
            [
             0.3,
             "#f1b6da"
            ],
            [
             0.4,
             "#fde0ef"
            ],
            [
             0.5,
             "#f7f7f7"
            ],
            [
             0.6,
             "#e6f5d0"
            ],
            [
             0.7,
             "#b8e186"
            ],
            [
             0.8,
             "#7fbc41"
            ],
            [
             0.9,
             "#4d9221"
            ],
            [
             1,
             "#276419"
            ]
           ],
           "sequential": [
            [
             0,
             "#0d0887"
            ],
            [
             0.1111111111111111,
             "#46039f"
            ],
            [
             0.2222222222222222,
             "#7201a8"
            ],
            [
             0.3333333333333333,
             "#9c179e"
            ],
            [
             0.4444444444444444,
             "#bd3786"
            ],
            [
             0.5555555555555556,
             "#d8576b"
            ],
            [
             0.6666666666666666,
             "#ed7953"
            ],
            [
             0.7777777777777778,
             "#fb9f3a"
            ],
            [
             0.8888888888888888,
             "#fdca26"
            ],
            [
             1,
             "#f0f921"
            ]
           ],
           "sequentialminus": [
            [
             0,
             "#0d0887"
            ],
            [
             0.1111111111111111,
             "#46039f"
            ],
            [
             0.2222222222222222,
             "#7201a8"
            ],
            [
             0.3333333333333333,
             "#9c179e"
            ],
            [
             0.4444444444444444,
             "#bd3786"
            ],
            [
             0.5555555555555556,
             "#d8576b"
            ],
            [
             0.6666666666666666,
             "#ed7953"
            ],
            [
             0.7777777777777778,
             "#fb9f3a"
            ],
            [
             0.8888888888888888,
             "#fdca26"
            ],
            [
             1,
             "#f0f921"
            ]
           ]
          },
          "colorway": [
           "#636efa",
           "#EF553B",
           "#00cc96",
           "#ab63fa",
           "#FFA15A",
           "#19d3f3",
           "#FF6692",
           "#B6E880",
           "#FF97FF",
           "#FECB52"
          ],
          "font": {
           "color": "#2a3f5f"
          },
          "geo": {
           "bgcolor": "white",
           "lakecolor": "white",
           "landcolor": "#E5ECF6",
           "showlakes": true,
           "showland": true,
           "subunitcolor": "white"
          },
          "hoverlabel": {
           "align": "left"
          },
          "hovermode": "closest",
          "mapbox": {
           "style": "light"
          },
          "paper_bgcolor": "white",
          "plot_bgcolor": "#E5ECF6",
          "polar": {
           "angularaxis": {
            "gridcolor": "white",
            "linecolor": "white",
            "ticks": ""
           },
           "bgcolor": "#E5ECF6",
           "radialaxis": {
            "gridcolor": "white",
            "linecolor": "white",
            "ticks": ""
           }
          },
          "scene": {
           "xaxis": {
            "backgroundcolor": "#E5ECF6",
            "gridcolor": "white",
            "gridwidth": 2,
            "linecolor": "white",
            "showbackground": true,
            "ticks": "",
            "zerolinecolor": "white"
           },
           "yaxis": {
            "backgroundcolor": "#E5ECF6",
            "gridcolor": "white",
            "gridwidth": 2,
            "linecolor": "white",
            "showbackground": true,
            "ticks": "",
            "zerolinecolor": "white"
           },
           "zaxis": {
            "backgroundcolor": "#E5ECF6",
            "gridcolor": "white",
            "gridwidth": 2,
            "linecolor": "white",
            "showbackground": true,
            "ticks": "",
            "zerolinecolor": "white"
           }
          },
          "shapedefaults": {
           "line": {
            "color": "#2a3f5f"
           }
          },
          "ternary": {
           "aaxis": {
            "gridcolor": "white",
            "linecolor": "white",
            "ticks": ""
           },
           "baxis": {
            "gridcolor": "white",
            "linecolor": "white",
            "ticks": ""
           },
           "bgcolor": "#E5ECF6",
           "caxis": {
            "gridcolor": "white",
            "linecolor": "white",
            "ticks": ""
           }
          },
          "title": {
           "x": 0.05
          },
          "xaxis": {
           "automargin": true,
           "gridcolor": "white",
           "linecolor": "white",
           "ticks": "",
           "title": {
            "standoff": 15
           },
           "zerolinecolor": "white",
           "zerolinewidth": 2
          },
          "yaxis": {
           "automargin": true,
           "gridcolor": "white",
           "linecolor": "white",
           "ticks": "",
           "title": {
            "standoff": 15
           },
           "zerolinecolor": "white",
           "zerolinewidth": 2
          }
         }
        }
       }
      },
      "text/html": [
       "<div>                            <div id=\"f6c9008d-e374-49df-b5fe-ecdcac38f5df\" class=\"plotly-graph-div\" style=\"height:525px; width:100%;\"></div>            <script type=\"text/javascript\">                require([\"plotly\"], function(Plotly) {                    window.PLOTLYENV=window.PLOTLYENV || {};                                    if (document.getElementById(\"f6c9008d-e374-49df-b5fe-ecdcac38f5df\")) {                    Plotly.newPlot(                        \"f6c9008d-e374-49df-b5fe-ecdcac38f5df\",                        [{\"type\":\"surface\",\"z\":[[1],[1],[1],[2],[4],[2],[4],[5],[5],[8],[5],[9],[5],[10],[7],[11],[7],[6],[12],[9],[16],[11],[12],[8],[15],[10],[22],[15],[8],[5],[9],[6],[2],[2],[2],[1],[3]]}],                        {\"template\":{\"data\":{\"bar\":[{\"error_x\":{\"color\":\"#2a3f5f\"},\"error_y\":{\"color\":\"#2a3f5f\"},\"marker\":{\"line\":{\"color\":\"#E5ECF6\",\"width\":0.5},\"pattern\":{\"fillmode\":\"overlay\",\"size\":10,\"solidity\":0.2}},\"type\":\"bar\"}],\"barpolar\":[{\"marker\":{\"line\":{\"color\":\"#E5ECF6\",\"width\":0.5},\"pattern\":{\"fillmode\":\"overlay\",\"size\":10,\"solidity\":0.2}},\"type\":\"barpolar\"}],\"carpet\":[{\"aaxis\":{\"endlinecolor\":\"#2a3f5f\",\"gridcolor\":\"white\",\"linecolor\":\"white\",\"minorgridcolor\":\"white\",\"startlinecolor\":\"#2a3f5f\"},\"baxis\":{\"endlinecolor\":\"#2a3f5f\",\"gridcolor\":\"white\",\"linecolor\":\"white\",\"minorgridcolor\":\"white\",\"startlinecolor\":\"#2a3f5f\"},\"type\":\"carpet\"}],\"choropleth\":[{\"colorbar\":{\"outlinewidth\":0,\"ticks\":\"\"},\"type\":\"choropleth\"}],\"contour\":[{\"colorbar\":{\"outlinewidth\":0,\"ticks\":\"\"},\"colorscale\":[[0.0,\"#0d0887\"],[0.1111111111111111,\"#46039f\"],[0.2222222222222222,\"#7201a8\"],[0.3333333333333333,\"#9c179e\"],[0.4444444444444444,\"#bd3786\"],[0.5555555555555556,\"#d8576b\"],[0.6666666666666666,\"#ed7953\"],[0.7777777777777778,\"#fb9f3a\"],[0.8888888888888888,\"#fdca26\"],[1.0,\"#f0f921\"]],\"type\":\"contour\"}],\"contourcarpet\":[{\"colorbar\":{\"outlinewidth\":0,\"ticks\":\"\"},\"type\":\"contourcarpet\"}],\"heatmap\":[{\"colorbar\":{\"outlinewidth\":0,\"ticks\":\"\"},\"colorscale\":[[0.0,\"#0d0887\"],[0.1111111111111111,\"#46039f\"],[0.2222222222222222,\"#7201a8\"],[0.3333333333333333,\"#9c179e\"],[0.4444444444444444,\"#bd3786\"],[0.5555555555555556,\"#d8576b\"],[0.6666666666666666,\"#ed7953\"],[0.7777777777777778,\"#fb9f3a\"],[0.8888888888888888,\"#fdca26\"],[1.0,\"#f0f921\"]],\"type\":\"heatmap\"}],\"heatmapgl\":[{\"colorbar\":{\"outlinewidth\":0,\"ticks\":\"\"},\"colorscale\":[[0.0,\"#0d0887\"],[0.1111111111111111,\"#46039f\"],[0.2222222222222222,\"#7201a8\"],[0.3333333333333333,\"#9c179e\"],[0.4444444444444444,\"#bd3786\"],[0.5555555555555556,\"#d8576b\"],[0.6666666666666666,\"#ed7953\"],[0.7777777777777778,\"#fb9f3a\"],[0.8888888888888888,\"#fdca26\"],[1.0,\"#f0f921\"]],\"type\":\"heatmapgl\"}],\"histogram\":[{\"marker\":{\"pattern\":{\"fillmode\":\"overlay\",\"size\":10,\"solidity\":0.2}},\"type\":\"histogram\"}],\"histogram2d\":[{\"colorbar\":{\"outlinewidth\":0,\"ticks\":\"\"},\"colorscale\":[[0.0,\"#0d0887\"],[0.1111111111111111,\"#46039f\"],[0.2222222222222222,\"#7201a8\"],[0.3333333333333333,\"#9c179e\"],[0.4444444444444444,\"#bd3786\"],[0.5555555555555556,\"#d8576b\"],[0.6666666666666666,\"#ed7953\"],[0.7777777777777778,\"#fb9f3a\"],[0.8888888888888888,\"#fdca26\"],[1.0,\"#f0f921\"]],\"type\":\"histogram2d\"}],\"histogram2dcontour\":[{\"colorbar\":{\"outlinewidth\":0,\"ticks\":\"\"},\"colorscale\":[[0.0,\"#0d0887\"],[0.1111111111111111,\"#46039f\"],[0.2222222222222222,\"#7201a8\"],[0.3333333333333333,\"#9c179e\"],[0.4444444444444444,\"#bd3786\"],[0.5555555555555556,\"#d8576b\"],[0.6666666666666666,\"#ed7953\"],[0.7777777777777778,\"#fb9f3a\"],[0.8888888888888888,\"#fdca26\"],[1.0,\"#f0f921\"]],\"type\":\"histogram2dcontour\"}],\"mesh3d\":[{\"colorbar\":{\"outlinewidth\":0,\"ticks\":\"\"},\"type\":\"mesh3d\"}],\"parcoords\":[{\"line\":{\"colorbar\":{\"outlinewidth\":0,\"ticks\":\"\"}},\"type\":\"parcoords\"}],\"pie\":[{\"automargin\":true,\"type\":\"pie\"}],\"scatter\":[{\"marker\":{\"colorbar\":{\"outlinewidth\":0,\"ticks\":\"\"}},\"type\":\"scatter\"}],\"scatter3d\":[{\"line\":{\"colorbar\":{\"outlinewidth\":0,\"ticks\":\"\"}},\"marker\":{\"colorbar\":{\"outlinewidth\":0,\"ticks\":\"\"}},\"type\":\"scatter3d\"}],\"scattercarpet\":[{\"marker\":{\"colorbar\":{\"outlinewidth\":0,\"ticks\":\"\"}},\"type\":\"scattercarpet\"}],\"scattergeo\":[{\"marker\":{\"colorbar\":{\"outlinewidth\":0,\"ticks\":\"\"}},\"type\":\"scattergeo\"}],\"scattergl\":[{\"marker\":{\"colorbar\":{\"outlinewidth\":0,\"ticks\":\"\"}},\"type\":\"scattergl\"}],\"scattermapbox\":[{\"marker\":{\"colorbar\":{\"outlinewidth\":0,\"ticks\":\"\"}},\"type\":\"scattermapbox\"}],\"scatterpolar\":[{\"marker\":{\"colorbar\":{\"outlinewidth\":0,\"ticks\":\"\"}},\"type\":\"scatterpolar\"}],\"scatterpolargl\":[{\"marker\":{\"colorbar\":{\"outlinewidth\":0,\"ticks\":\"\"}},\"type\":\"scatterpolargl\"}],\"scatterternary\":[{\"marker\":{\"colorbar\":{\"outlinewidth\":0,\"ticks\":\"\"}},\"type\":\"scatterternary\"}],\"surface\":[{\"colorbar\":{\"outlinewidth\":0,\"ticks\":\"\"},\"colorscale\":[[0.0,\"#0d0887\"],[0.1111111111111111,\"#46039f\"],[0.2222222222222222,\"#7201a8\"],[0.3333333333333333,\"#9c179e\"],[0.4444444444444444,\"#bd3786\"],[0.5555555555555556,\"#d8576b\"],[0.6666666666666666,\"#ed7953\"],[0.7777777777777778,\"#fb9f3a\"],[0.8888888888888888,\"#fdca26\"],[1.0,\"#f0f921\"]],\"type\":\"surface\"}],\"table\":[{\"cells\":{\"fill\":{\"color\":\"#EBF0F8\"},\"line\":{\"color\":\"white\"}},\"header\":{\"fill\":{\"color\":\"#C8D4E3\"},\"line\":{\"color\":\"white\"}},\"type\":\"table\"}]},\"layout\":{\"annotationdefaults\":{\"arrowcolor\":\"#2a3f5f\",\"arrowhead\":0,\"arrowwidth\":1},\"autotypenumbers\":\"strict\",\"coloraxis\":{\"colorbar\":{\"outlinewidth\":0,\"ticks\":\"\"}},\"colorscale\":{\"diverging\":[[0,\"#8e0152\"],[0.1,\"#c51b7d\"],[0.2,\"#de77ae\"],[0.3,\"#f1b6da\"],[0.4,\"#fde0ef\"],[0.5,\"#f7f7f7\"],[0.6,\"#e6f5d0\"],[0.7,\"#b8e186\"],[0.8,\"#7fbc41\"],[0.9,\"#4d9221\"],[1,\"#276419\"]],\"sequential\":[[0.0,\"#0d0887\"],[0.1111111111111111,\"#46039f\"],[0.2222222222222222,\"#7201a8\"],[0.3333333333333333,\"#9c179e\"],[0.4444444444444444,\"#bd3786\"],[0.5555555555555556,\"#d8576b\"],[0.6666666666666666,\"#ed7953\"],[0.7777777777777778,\"#fb9f3a\"],[0.8888888888888888,\"#fdca26\"],[1.0,\"#f0f921\"]],\"sequentialminus\":[[0.0,\"#0d0887\"],[0.1111111111111111,\"#46039f\"],[0.2222222222222222,\"#7201a8\"],[0.3333333333333333,\"#9c179e\"],[0.4444444444444444,\"#bd3786\"],[0.5555555555555556,\"#d8576b\"],[0.6666666666666666,\"#ed7953\"],[0.7777777777777778,\"#fb9f3a\"],[0.8888888888888888,\"#fdca26\"],[1.0,\"#f0f921\"]]},\"colorway\":[\"#636efa\",\"#EF553B\",\"#00cc96\",\"#ab63fa\",\"#FFA15A\",\"#19d3f3\",\"#FF6692\",\"#B6E880\",\"#FF97FF\",\"#FECB52\"],\"font\":{\"color\":\"#2a3f5f\"},\"geo\":{\"bgcolor\":\"white\",\"lakecolor\":\"white\",\"landcolor\":\"#E5ECF6\",\"showlakes\":true,\"showland\":true,\"subunitcolor\":\"white\"},\"hoverlabel\":{\"align\":\"left\"},\"hovermode\":\"closest\",\"mapbox\":{\"style\":\"light\"},\"paper_bgcolor\":\"white\",\"plot_bgcolor\":\"#E5ECF6\",\"polar\":{\"angularaxis\":{\"gridcolor\":\"white\",\"linecolor\":\"white\",\"ticks\":\"\"},\"bgcolor\":\"#E5ECF6\",\"radialaxis\":{\"gridcolor\":\"white\",\"linecolor\":\"white\",\"ticks\":\"\"}},\"scene\":{\"xaxis\":{\"backgroundcolor\":\"#E5ECF6\",\"gridcolor\":\"white\",\"gridwidth\":2,\"linecolor\":\"white\",\"showbackground\":true,\"ticks\":\"\",\"zerolinecolor\":\"white\"},\"yaxis\":{\"backgroundcolor\":\"#E5ECF6\",\"gridcolor\":\"white\",\"gridwidth\":2,\"linecolor\":\"white\",\"showbackground\":true,\"ticks\":\"\",\"zerolinecolor\":\"white\"},\"zaxis\":{\"backgroundcolor\":\"#E5ECF6\",\"gridcolor\":\"white\",\"gridwidth\":2,\"linecolor\":\"white\",\"showbackground\":true,\"ticks\":\"\",\"zerolinecolor\":\"white\"}},\"shapedefaults\":{\"line\":{\"color\":\"#2a3f5f\"}},\"ternary\":{\"aaxis\":{\"gridcolor\":\"white\",\"linecolor\":\"white\",\"ticks\":\"\"},\"baxis\":{\"gridcolor\":\"white\",\"linecolor\":\"white\",\"ticks\":\"\"},\"bgcolor\":\"#E5ECF6\",\"caxis\":{\"gridcolor\":\"white\",\"linecolor\":\"white\",\"ticks\":\"\"}},\"title\":{\"x\":0.05},\"xaxis\":{\"automargin\":true,\"gridcolor\":\"white\",\"linecolor\":\"white\",\"ticks\":\"\",\"title\":{\"standoff\":15},\"zerolinecolor\":\"white\",\"zerolinewidth\":2},\"yaxis\":{\"automargin\":true,\"gridcolor\":\"white\",\"linecolor\":\"white\",\"ticks\":\"\",\"title\":{\"standoff\":15},\"zerolinecolor\":\"white\",\"zerolinewidth\":2}}}},                        {\"responsive\": true}                    ).then(function(){\n",
       "                            \n",
       "var gd = document.getElementById('f6c9008d-e374-49df-b5fe-ecdcac38f5df');\n",
       "var x = new MutationObserver(function (mutations, observer) {{\n",
       "        var display = window.getComputedStyle(gd).display;\n",
       "        if (!display || display === 'none') {{\n",
       "            console.log([gd, 'removed!']);\n",
       "            Plotly.purge(gd);\n",
       "            observer.disconnect();\n",
       "        }}\n",
       "}});\n",
       "\n",
       "// Listen for the removal of the full notebook cells\n",
       "var notebookContainer = gd.closest('#notebook-container');\n",
       "if (notebookContainer) {{\n",
       "    x.observe(notebookContainer, {childList: true});\n",
       "}}\n",
       "\n",
       "// Listen for the clearing of the current output cell\n",
       "var outputEl = gd.closest('.output');\n",
       "if (outputEl) {{\n",
       "    x.observe(outputEl, {childList: true});\n",
       "}}\n",
       "\n",
       "                        })                };                });            </script>        </div>"
      ]
     },
     "metadata": {},
     "output_type": "display_data"
    }
   ],
   "source": [
    "iplot([go.Surface(z=v)])"
   ]
  },
  {
   "cell_type": "markdown",
   "id": "78530609",
   "metadata": {},
   "source": [
    "Bar chart using Seaborn"
   ]
  },
  {
   "cell_type": "code",
   "execution_count": 43,
   "id": "093f2bf0",
   "metadata": {},
   "outputs": [],
   "source": [
    "import seaborn as sns\n",
    "import matplotlib.pyplot as plt"
   ]
  },
  {
   "cell_type": "code",
   "execution_count": 45,
   "id": "e2631333",
   "metadata": {
    "scrolled": true
   },
   "outputs": [
    {
     "data": {
      "text/plain": [
       "Text(0, 0.5, 'age')"
      ]
     },
     "execution_count": 45,
     "metadata": {},
     "output_type": "execute_result"
    },
    {
     "data": {
      "image/png": "[encoded data removed]",
      "text/plain": [
       "<Figure size 720x432 with 1 Axes>"
      ]
     },
     "metadata": {
      "needs_background": "light"
     },
     "output_type": "display_data"
    }
   ],
   "source": [
    "# Set the width and height of the figure\n",
    "plt.figure(figsize=(10,6))\n",
    "\n",
    "# Add title\n",
    "plt.title(\"Heart attack prediction\")\n",
    "\n",
    "# Bar chart showing average arrival delay for Spirit Airlines flights by month\n",
    "sns.barplot(x=data['fbs'], y=data['age'])\n",
    "\n",
    "# Add label for vertical axis\n",
    "plt.ylabel(\"age\")"
   ]
  },
  {
   "cell_type": "markdown",
   "id": "bf930616",
   "metadata": {},
   "source": [
    "Line plot using Seaborn"
   ]
  },
  {
   "cell_type": "code",
   "execution_count": 46,
   "id": "306cf3b5",
   "metadata": {},
   "outputs": [
    {
     "data": {
      "text/plain": [
       "<AxesSubplot:ylabel='target'>"
      ]
     },
     "execution_count": 46,
     "metadata": {},
     "output_type": "execute_result"
    },
    {
     "data": {
      "image/png": "[encoded data removed]",
      "text/plain": [
       "<Figure size 432x288 with 1 Axes>"
      ]
     },
     "metadata": {
      "needs_background": "light"
     },
     "output_type": "display_data"
    }
   ],
   "source": [
    "sns.lineplot(data=y)"
   ]
  },
  {
   "cell_type": "markdown",
   "id": "f42e8060",
   "metadata": {},
   "source": [
    "Scatterplot using seaborn"
   ]
  },
  {
   "cell_type": "code",
   "execution_count": 48,
   "id": "5ef72cb1",
   "metadata": {},
   "outputs": [
    {
     "data": {
      "text/plain": [
       "<AxesSubplot:xlabel='age', ylabel='fbs'>"
      ]
     },
     "execution_count": 48,
     "metadata": {},
     "output_type": "execute_result"
    },
    {
     "data": {
      "image/png": "[encoded data removed]",
      "text/plain": [
       "<Figure size 432x288 with 1 Axes>"
      ]
     },
     "metadata": {
      "needs_background": "light"
     },
     "output_type": "display_data"
    }
   ],
   "source": [
    "sns.scatterplot(data=data, x=\"age\", y=\"fbs\")"
   ]
  },
  {
   "cell_type": "markdown",
   "id": "60398bce",
   "metadata": {},
   "source": [
    "Pie charts"
   ]
  },
  {
   "cell_type": "code",
   "execution_count": 49,
   "id": "8d4e7f48",
   "metadata": {
    "scrolled": true
   },
   "outputs": [
    {
     "data": {
      "text/plain": [
       "<AxesSubplot:ylabel='fbs'>"
      ]
     },
     "execution_count": 49,
     "metadata": {},
     "output_type": "execute_result"
    },
    {
     "data": {
      "image/png": "[encoded data removed]",
      "text/plain": [
       "<Figure size 432x288 with 1 Axes>"
      ]
     },
     "metadata": {},
     "output_type": "display_data"
    }
   ],
   "source": [
    "data['fbs'].value_counts().head(10).plot.pie()"
   ]
  },
  {
   "cell_type": "markdown",
   "id": "7e1a70f0",
   "metadata": {},
   "source": [
    "# Data Cleaning"
   ]
  },
  {
   "cell_type": "code",
   "execution_count": 55,
   "id": "bb92d1a0",
   "metadata": {},
   "outputs": [
    {
     "name": "stdout",
     "output_type": "stream",
     "text": [
      "<class 'pandas.core.frame.DataFrame'>\n",
      "Int64Index: 37 entries, 0 to 36\n",
      "Data columns (total 3 columns):\n",
      " #   Column  Non-Null Count  Dtype  \n",
      "---  ------  --------------  -----  \n",
      " 0   fbs     37 non-null     object \n",
      " 1   age     37 non-null     float64\n",
      " 2   n       37 non-null     int64  \n",
      "dtypes: float64(1), int64(1), object(1)\n",
      "memory usage: 2.2+ KB\n"
     ]
    }
   ],
   "source": [
    "data.info()"
   ]
  },
  {
   "cell_type": "code",
   "execution_count": 56,
   "id": "9e574246",
   "metadata": {},
   "outputs": [
    {
     "data": {
      "text/plain": [
       "(37, 3)"
      ]
     },
     "execution_count": 56,
     "metadata": {},
     "output_type": "execute_result"
    }
   ],
   "source": [
    "data.shape"
   ]
  },
  {
   "cell_type": "code",
   "execution_count": 58,
   "id": "3cdf7d86",
   "metadata": {},
   "outputs": [
    {
     "data": {
      "text/plain": [
       "fbs    0\n",
       "age    0\n",
       "n      0\n",
       "dtype: int64"
      ]
     },
     "execution_count": 58,
     "metadata": {},
     "output_type": "execute_result"
    }
   ],
   "source": [
    "data.isnull().sum()"
   ]
  },
  {
   "cell_type": "code",
   "execution_count": 59,
   "id": "38f3396f",
   "metadata": {},
   "outputs": [
    {
     "data": {
      "text/plain": [
       "age    0.015586\n",
       "n      0.932088\n",
       "dtype: float64"
      ]
     },
     "execution_count": 59,
     "metadata": {},
     "output_type": "execute_result"
    }
   ],
   "source": [
    "data.skew()"
   ]
  },
  {
   "cell_type": "code",
   "execution_count": 61,
   "id": "e2a47a10",
   "metadata": {},
   "outputs": [
    {
     "data": {
      "text/plain": [
       "0"
      ]
     },
     "execution_count": 61,
     "metadata": {},
     "output_type": "execute_result"
    }
   ],
   "source": [
    "data.duplicated().sum()"
   ]
  },
  {
   "cell_type": "code",
   "execution_count": null,
   "id": "c99e29f1",
   "metadata": {},
   "outputs": [],
   "source": []
  }
 ],
 "metadata": {
  "kernelspec": {
   "display_name": "Python 3 (ipykernel)",
   "language": "python",
   "name": "python3"
  },
  "language_info": {
   "codemirror_mode": {
    "name": "ipython",
    "version": 3
   },
   "file_extension": ".py",
   "mimetype": "text/x-python",
   "name": "python",
   "nbconvert_exporter": "python",
   "pygments_lexer": "ipython3",
   "version": "3.8.3"
  }
 },
 "nbformat": 4,
 "nbformat_minor": 5
}
